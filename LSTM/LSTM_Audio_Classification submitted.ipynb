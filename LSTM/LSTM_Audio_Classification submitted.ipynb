{
 "cells": [
  {
   "cell_type": "markdown",
   "id": "6c8ec65d-c874-45f4-9ba9-e7c2699580f8",
   "metadata": {},
   "source": [
    "# LSTM Model for Urban Sound Classification"
   ]
  },
  {
   "cell_type": "markdown",
   "id": "5bccd8f6-c47e-4576-933e-4cfb6f977551",
   "metadata": {
    "jp-MarkdownHeadingCollapsed": true
   },
   "source": [
    "## Installing Required Libraries"
   ]
  },
  {
   "cell_type": "code",
   "execution_count": 1,
   "id": "65a35a79-5d62-4664-a6ec-081b61b14ff9",
   "metadata": {},
   "outputs": [
    {
     "name": "stdout",
     "output_type": "stream",
     "text": [
      "Requirement already satisfied: librosa in /home/zebra/anaconda3/envs/audioClassification/lib/python3.12/site-packages (0.10.2.post1)\n",
      "Requirement already satisfied: audioread>=2.1.9 in /home/zebra/anaconda3/envs/audioClassification/lib/python3.12/site-packages (from librosa) (3.0.1)\n",
      "Requirement already satisfied: numpy!=1.22.0,!=1.22.1,!=1.22.2,>=1.20.3 in /home/zebra/anaconda3/envs/audioClassification/lib/python3.12/site-packages (from librosa) (1.26.4)\n",
      "Requirement already satisfied: scipy>=1.2.0 in /home/zebra/anaconda3/envs/audioClassification/lib/python3.12/site-packages (from librosa) (1.14.1)\n",
      "Requirement already satisfied: scikit-learn>=0.20.0 in /home/zebra/anaconda3/envs/audioClassification/lib/python3.12/site-packages (from librosa) (1.5.2)\n",
      "Requirement already satisfied: joblib>=0.14 in /home/zebra/anaconda3/envs/audioClassification/lib/python3.12/site-packages (from librosa) (1.4.2)\n",
      "Requirement already satisfied: decorator>=4.3.0 in /home/zebra/anaconda3/envs/audioClassification/lib/python3.12/site-packages (from librosa) (5.1.1)\n",
      "Requirement already satisfied: numba>=0.51.0 in /home/zebra/anaconda3/envs/audioClassification/lib/python3.12/site-packages (from librosa) (0.60.0)\n",
      "Requirement already satisfied: soundfile>=0.12.1 in /home/zebra/anaconda3/envs/audioClassification/lib/python3.12/site-packages (from librosa) (0.12.1)\n",
      "Requirement already satisfied: pooch>=1.1 in /home/zebra/anaconda3/envs/audioClassification/lib/python3.12/site-packages (from librosa) (1.8.2)\n",
      "Requirement already satisfied: soxr>=0.3.2 in /home/zebra/anaconda3/envs/audioClassification/lib/python3.12/site-packages (from librosa) (0.5.0.post1)\n",
      "Requirement already satisfied: typing-extensions>=4.1.1 in /home/zebra/anaconda3/envs/audioClassification/lib/python3.12/site-packages (from librosa) (4.11.0)\n",
      "Requirement already satisfied: lazy-loader>=0.1 in /home/zebra/anaconda3/envs/audioClassification/lib/python3.12/site-packages (from librosa) (0.4)\n",
      "Requirement already satisfied: msgpack>=1.0 in /home/zebra/anaconda3/envs/audioClassification/lib/python3.12/site-packages (from librosa) (1.1.0)\n",
      "Requirement already satisfied: packaging in /home/zebra/anaconda3/envs/audioClassification/lib/python3.12/site-packages (from lazy-loader>=0.1->librosa) (24.1)\n",
      "Requirement already satisfied: llvmlite<0.44,>=0.43.0dev0 in /home/zebra/anaconda3/envs/audioClassification/lib/python3.12/site-packages (from numba>=0.51.0->librosa) (0.43.0)\n",
      "Requirement already satisfied: platformdirs>=2.5.0 in /home/zebra/anaconda3/envs/audioClassification/lib/python3.12/site-packages (from pooch>=1.1->librosa) (3.10.0)\n",
      "Requirement already satisfied: requests>=2.19.0 in /home/zebra/anaconda3/envs/audioClassification/lib/python3.12/site-packages (from pooch>=1.1->librosa) (2.32.3)\n",
      "Requirement already satisfied: threadpoolctl>=3.1.0 in /home/zebra/anaconda3/envs/audioClassification/lib/python3.12/site-packages (from scikit-learn>=0.20.0->librosa) (3.5.0)\n",
      "Requirement already satisfied: cffi>=1.0 in /home/zebra/anaconda3/envs/audioClassification/lib/python3.12/site-packages (from soundfile>=0.12.1->librosa) (1.17.1)\n",
      "Requirement already satisfied: pycparser in /home/zebra/anaconda3/envs/audioClassification/lib/python3.12/site-packages (from cffi>=1.0->soundfile>=0.12.1->librosa) (2.21)\n",
      "Requirement already satisfied: charset-normalizer<4,>=2 in /home/zebra/anaconda3/envs/audioClassification/lib/python3.12/site-packages (from requests>=2.19.0->pooch>=1.1->librosa) (3.3.2)\n",
      "Requirement already satisfied: idna<4,>=2.5 in /home/zebra/anaconda3/envs/audioClassification/lib/python3.12/site-packages (from requests>=2.19.0->pooch>=1.1->librosa) (3.7)\n",
      "Requirement already satisfied: urllib3<3,>=1.21.1 in /home/zebra/anaconda3/envs/audioClassification/lib/python3.12/site-packages (from requests>=2.19.0->pooch>=1.1->librosa) (2.2.3)\n",
      "Requirement already satisfied: certifi>=2017.4.17 in /home/zebra/anaconda3/envs/audioClassification/lib/python3.12/site-packages (from requests>=2.19.0->pooch>=1.1->librosa) (2024.8.30)\n"
     ]
    }
   ],
   "source": [
    "!pip install librosa"
   ]
  },
  {
   "cell_type": "code",
   "execution_count": 2,
   "id": "69072ca9-0557-401c-9f31-bd65421dc2ba",
   "metadata": {},
   "outputs": [
    {
     "name": "stdout",
     "output_type": "stream",
     "text": [
      "Requirement already satisfied: tensorflow in /home/zebra/anaconda3/envs/audioClassification/lib/python3.12/site-packages (2.17.0)\n",
      "Requirement already satisfied: absl-py>=1.0.0 in /home/zebra/anaconda3/envs/audioClassification/lib/python3.12/site-packages (from tensorflow) (2.1.0)\n",
      "Requirement already satisfied: astunparse>=1.6.0 in /home/zebra/anaconda3/envs/audioClassification/lib/python3.12/site-packages (from tensorflow) (1.6.3)\n",
      "Requirement already satisfied: flatbuffers>=24.3.25 in /home/zebra/anaconda3/envs/audioClassification/lib/python3.12/site-packages (from tensorflow) (24.3.25)\n",
      "Requirement already satisfied: gast!=0.5.0,!=0.5.1,!=0.5.2,>=0.2.1 in /home/zebra/anaconda3/envs/audioClassification/lib/python3.12/site-packages (from tensorflow) (0.6.0)\n",
      "Requirement already satisfied: google-pasta>=0.1.1 in /home/zebra/anaconda3/envs/audioClassification/lib/python3.12/site-packages (from tensorflow) (0.2.0)\n",
      "Requirement already satisfied: h5py>=3.10.0 in /home/zebra/anaconda3/envs/audioClassification/lib/python3.12/site-packages (from tensorflow) (3.12.1)\n",
      "Requirement already satisfied: libclang>=13.0.0 in /home/zebra/anaconda3/envs/audioClassification/lib/python3.12/site-packages (from tensorflow) (18.1.1)\n",
      "Requirement already satisfied: ml-dtypes<0.5.0,>=0.3.1 in /home/zebra/anaconda3/envs/audioClassification/lib/python3.12/site-packages (from tensorflow) (0.4.1)\n",
      "Requirement already satisfied: opt-einsum>=2.3.2 in /home/zebra/anaconda3/envs/audioClassification/lib/python3.12/site-packages (from tensorflow) (3.4.0)\n",
      "Requirement already satisfied: packaging in /home/zebra/anaconda3/envs/audioClassification/lib/python3.12/site-packages (from tensorflow) (24.1)\n",
      "Requirement already satisfied: protobuf!=4.21.0,!=4.21.1,!=4.21.2,!=4.21.3,!=4.21.4,!=4.21.5,<5.0.0dev,>=3.20.3 in /home/zebra/anaconda3/envs/audioClassification/lib/python3.12/site-packages (from tensorflow) (4.25.5)\n",
      "Requirement already satisfied: requests<3,>=2.21.0 in /home/zebra/anaconda3/envs/audioClassification/lib/python3.12/site-packages (from tensorflow) (2.32.3)\n",
      "Requirement already satisfied: setuptools in /home/zebra/anaconda3/envs/audioClassification/lib/python3.12/site-packages (from tensorflow) (75.1.0)\n",
      "Requirement already satisfied: six>=1.12.0 in /home/zebra/anaconda3/envs/audioClassification/lib/python3.12/site-packages (from tensorflow) (1.16.0)\n",
      "Requirement already satisfied: termcolor>=1.1.0 in /home/zebra/anaconda3/envs/audioClassification/lib/python3.12/site-packages (from tensorflow) (2.4.0)\n",
      "Requirement already satisfied: typing-extensions>=3.6.6 in /home/zebra/anaconda3/envs/audioClassification/lib/python3.12/site-packages (from tensorflow) (4.11.0)\n",
      "Requirement already satisfied: wrapt>=1.11.0 in /home/zebra/anaconda3/envs/audioClassification/lib/python3.12/site-packages (from tensorflow) (1.16.0)\n",
      "Requirement already satisfied: grpcio<2.0,>=1.24.3 in /home/zebra/anaconda3/envs/audioClassification/lib/python3.12/site-packages (from tensorflow) (1.66.2)\n",
      "Requirement already satisfied: tensorboard<2.18,>=2.17 in /home/zebra/anaconda3/envs/audioClassification/lib/python3.12/site-packages (from tensorflow) (2.17.1)\n",
      "Requirement already satisfied: keras>=3.2.0 in /home/zebra/anaconda3/envs/audioClassification/lib/python3.12/site-packages (from tensorflow) (3.6.0)\n",
      "Requirement already satisfied: numpy<2.0.0,>=1.26.0 in /home/zebra/anaconda3/envs/audioClassification/lib/python3.12/site-packages (from tensorflow) (1.26.4)\n",
      "Requirement already satisfied: wheel<1.0,>=0.23.0 in /home/zebra/anaconda3/envs/audioClassification/lib/python3.12/site-packages (from astunparse>=1.6.0->tensorflow) (0.44.0)\n",
      "Requirement already satisfied: rich in /home/zebra/anaconda3/envs/audioClassification/lib/python3.12/site-packages (from keras>=3.2.0->tensorflow) (13.9.2)\n",
      "Requirement already satisfied: namex in /home/zebra/anaconda3/envs/audioClassification/lib/python3.12/site-packages (from keras>=3.2.0->tensorflow) (0.0.8)\n",
      "Requirement already satisfied: optree in /home/zebra/anaconda3/envs/audioClassification/lib/python3.12/site-packages (from keras>=3.2.0->tensorflow) (0.13.0)\n",
      "Requirement already satisfied: charset-normalizer<4,>=2 in /home/zebra/anaconda3/envs/audioClassification/lib/python3.12/site-packages (from requests<3,>=2.21.0->tensorflow) (3.3.2)\n",
      "Requirement already satisfied: idna<4,>=2.5 in /home/zebra/anaconda3/envs/audioClassification/lib/python3.12/site-packages (from requests<3,>=2.21.0->tensorflow) (3.7)\n",
      "Requirement already satisfied: urllib3<3,>=1.21.1 in /home/zebra/anaconda3/envs/audioClassification/lib/python3.12/site-packages (from requests<3,>=2.21.0->tensorflow) (2.2.3)\n",
      "Requirement already satisfied: certifi>=2017.4.17 in /home/zebra/anaconda3/envs/audioClassification/lib/python3.12/site-packages (from requests<3,>=2.21.0->tensorflow) (2024.8.30)\n",
      "Requirement already satisfied: markdown>=2.6.8 in /home/zebra/anaconda3/envs/audioClassification/lib/python3.12/site-packages (from tensorboard<2.18,>=2.17->tensorflow) (3.7)\n",
      "Requirement already satisfied: tensorboard-data-server<0.8.0,>=0.7.0 in /home/zebra/anaconda3/envs/audioClassification/lib/python3.12/site-packages (from tensorboard<2.18,>=2.17->tensorflow) (0.7.2)\n",
      "Requirement already satisfied: werkzeug>=1.0.1 in /home/zebra/anaconda3/envs/audioClassification/lib/python3.12/site-packages (from tensorboard<2.18,>=2.17->tensorflow) (3.0.4)\n",
      "Requirement already satisfied: MarkupSafe>=2.1.1 in /home/zebra/anaconda3/envs/audioClassification/lib/python3.12/site-packages (from werkzeug>=1.0.1->tensorboard<2.18,>=2.17->tensorflow) (2.1.3)\n",
      "Requirement already satisfied: markdown-it-py>=2.2.0 in /home/zebra/anaconda3/envs/audioClassification/lib/python3.12/site-packages (from rich->keras>=3.2.0->tensorflow) (3.0.0)\n",
      "Requirement already satisfied: pygments<3.0.0,>=2.13.0 in /home/zebra/anaconda3/envs/audioClassification/lib/python3.12/site-packages (from rich->keras>=3.2.0->tensorflow) (2.15.1)\n",
      "Requirement already satisfied: mdurl~=0.1 in /home/zebra/anaconda3/envs/audioClassification/lib/python3.12/site-packages (from markdown-it-py>=2.2.0->rich->keras>=3.2.0->tensorflow) (0.1.2)\n"
     ]
    }
   ],
   "source": [
    "!pip install tensorflow"
   ]
  },
  {
   "cell_type": "code",
   "execution_count": 3,
   "id": "acd4c6bf-b256-41cb-b869-af1aa5b9fd6f",
   "metadata": {},
   "outputs": [
    {
     "name": "stdout",
     "output_type": "stream",
     "text": [
      "Requirement already satisfied: matplotlib in /home/zebra/anaconda3/envs/audioClassification/lib/python3.12/site-packages (3.9.2)\n",
      "Requirement already satisfied: contourpy>=1.0.1 in /home/zebra/anaconda3/envs/audioClassification/lib/python3.12/site-packages (from matplotlib) (1.3.0)\n",
      "Requirement already satisfied: cycler>=0.10 in /home/zebra/anaconda3/envs/audioClassification/lib/python3.12/site-packages (from matplotlib) (0.12.1)\n",
      "Requirement already satisfied: fonttools>=4.22.0 in /home/zebra/anaconda3/envs/audioClassification/lib/python3.12/site-packages (from matplotlib) (4.54.1)\n",
      "Requirement already satisfied: kiwisolver>=1.3.1 in /home/zebra/anaconda3/envs/audioClassification/lib/python3.12/site-packages (from matplotlib) (1.4.7)\n",
      "Requirement already satisfied: numpy>=1.23 in /home/zebra/anaconda3/envs/audioClassification/lib/python3.12/site-packages (from matplotlib) (1.26.4)\n",
      "Requirement already satisfied: packaging>=20.0 in /home/zebra/anaconda3/envs/audioClassification/lib/python3.12/site-packages (from matplotlib) (24.1)\n",
      "Requirement already satisfied: pillow>=8 in /home/zebra/anaconda3/envs/audioClassification/lib/python3.12/site-packages (from matplotlib) (10.4.0)\n",
      "Requirement already satisfied: pyparsing>=2.3.1 in /home/zebra/anaconda3/envs/audioClassification/lib/python3.12/site-packages (from matplotlib) (3.1.4)\n",
      "Requirement already satisfied: python-dateutil>=2.7 in /home/zebra/anaconda3/envs/audioClassification/lib/python3.12/site-packages (from matplotlib) (2.9.0.post0)\n",
      "Requirement already satisfied: six>=1.5 in /home/zebra/anaconda3/envs/audioClassification/lib/python3.12/site-packages (from python-dateutil>=2.7->matplotlib) (1.16.0)\n"
     ]
    }
   ],
   "source": [
    "!pip install matplotlib"
   ]
  },
  {
   "cell_type": "code",
   "execution_count": 4,
   "id": "83cef683-3716-4f5d-a409-c7b54fcbb1ec",
   "metadata": {},
   "outputs": [
    {
     "name": "stdout",
     "output_type": "stream",
     "text": [
      "Requirement already satisfied: pandas in /home/zebra/anaconda3/envs/audioClassification/lib/python3.12/site-packages (2.2.3)\n",
      "Requirement already satisfied: numpy>=1.26.0 in /home/zebra/anaconda3/envs/audioClassification/lib/python3.12/site-packages (from pandas) (1.26.4)\n",
      "Requirement already satisfied: python-dateutil>=2.8.2 in /home/zebra/anaconda3/envs/audioClassification/lib/python3.12/site-packages (from pandas) (2.9.0.post0)\n",
      "Requirement already satisfied: pytz>=2020.1 in /home/zebra/anaconda3/envs/audioClassification/lib/python3.12/site-packages (from pandas) (2024.1)\n",
      "Requirement already satisfied: tzdata>=2022.7 in /home/zebra/anaconda3/envs/audioClassification/lib/python3.12/site-packages (from pandas) (2024.2)\n",
      "Requirement already satisfied: six>=1.5 in /home/zebra/anaconda3/envs/audioClassification/lib/python3.12/site-packages (from python-dateutil>=2.8.2->pandas) (1.16.0)\n"
     ]
    }
   ],
   "source": [
    "!pip install pandas"
   ]
  },
  {
   "cell_type": "code",
   "execution_count": 5,
   "id": "e4693fc1-e7eb-46eb-be24-2110e3af6c7f",
   "metadata": {},
   "outputs": [
    {
     "name": "stdout",
     "output_type": "stream",
     "text": [
      "Requirement already satisfied: tqdm in /home/zebra/anaconda3/envs/audioClassification/lib/python3.12/site-packages (4.66.5)\n"
     ]
    }
   ],
   "source": [
    "!pip install tqdm"
   ]
  },
  {
   "cell_type": "code",
   "execution_count": 6,
   "id": "79c4c5af-2e00-48e2-8671-870795cdb767",
   "metadata": {},
   "outputs": [
    {
     "name": "stdout",
     "output_type": "stream",
     "text": [
      "Requirement already satisfied: imbalanced-learn in /home/zebra/anaconda3/envs/audioClassification/lib/python3.12/site-packages (0.12.4)\n",
      "Requirement already satisfied: numpy>=1.17.3 in /home/zebra/anaconda3/envs/audioClassification/lib/python3.12/site-packages (from imbalanced-learn) (1.26.4)\n",
      "Requirement already satisfied: scipy>=1.5.0 in /home/zebra/anaconda3/envs/audioClassification/lib/python3.12/site-packages (from imbalanced-learn) (1.14.1)\n",
      "Requirement already satisfied: scikit-learn>=1.0.2 in /home/zebra/anaconda3/envs/audioClassification/lib/python3.12/site-packages (from imbalanced-learn) (1.5.2)\n",
      "Requirement already satisfied: joblib>=1.1.1 in /home/zebra/anaconda3/envs/audioClassification/lib/python3.12/site-packages (from imbalanced-learn) (1.4.2)\n",
      "Requirement already satisfied: threadpoolctl>=2.0.0 in /home/zebra/anaconda3/envs/audioClassification/lib/python3.12/site-packages (from imbalanced-learn) (3.5.0)\n"
     ]
    }
   ],
   "source": [
    "!pip install imbalanced-learn"
   ]
  },
  {
   "cell_type": "code",
   "execution_count": 7,
   "id": "9c4e0dae-5ce0-4efd-b8d4-92db66204dda",
   "metadata": {},
   "outputs": [
    {
     "name": "stdout",
     "output_type": "stream",
     "text": [
      "Requirement already satisfied: keras-tuner in /home/zebra/anaconda3/envs/audioClassification/lib/python3.12/site-packages (1.4.7)\n",
      "Requirement already satisfied: keras in /home/zebra/anaconda3/envs/audioClassification/lib/python3.12/site-packages (from keras-tuner) (3.6.0)\n",
      "Requirement already satisfied: packaging in /home/zebra/anaconda3/envs/audioClassification/lib/python3.12/site-packages (from keras-tuner) (24.1)\n",
      "Requirement already satisfied: requests in /home/zebra/anaconda3/envs/audioClassification/lib/python3.12/site-packages (from keras-tuner) (2.32.3)\n",
      "Requirement already satisfied: kt-legacy in /home/zebra/anaconda3/envs/audioClassification/lib/python3.12/site-packages (from keras-tuner) (1.0.5)\n",
      "Requirement already satisfied: absl-py in /home/zebra/anaconda3/envs/audioClassification/lib/python3.12/site-packages (from keras->keras-tuner) (2.1.0)\n",
      "Requirement already satisfied: numpy in /home/zebra/anaconda3/envs/audioClassification/lib/python3.12/site-packages (from keras->keras-tuner) (1.26.4)\n",
      "Requirement already satisfied: rich in /home/zebra/anaconda3/envs/audioClassification/lib/python3.12/site-packages (from keras->keras-tuner) (13.9.2)\n",
      "Requirement already satisfied: namex in /home/zebra/anaconda3/envs/audioClassification/lib/python3.12/site-packages (from keras->keras-tuner) (0.0.8)\n",
      "Requirement already satisfied: h5py in /home/zebra/anaconda3/envs/audioClassification/lib/python3.12/site-packages (from keras->keras-tuner) (3.12.1)\n",
      "Requirement already satisfied: optree in /home/zebra/anaconda3/envs/audioClassification/lib/python3.12/site-packages (from keras->keras-tuner) (0.13.0)\n",
      "Requirement already satisfied: ml-dtypes in /home/zebra/anaconda3/envs/audioClassification/lib/python3.12/site-packages (from keras->keras-tuner) (0.4.1)\n",
      "Requirement already satisfied: charset-normalizer<4,>=2 in /home/zebra/anaconda3/envs/audioClassification/lib/python3.12/site-packages (from requests->keras-tuner) (3.3.2)\n",
      "Requirement already satisfied: idna<4,>=2.5 in /home/zebra/anaconda3/envs/audioClassification/lib/python3.12/site-packages (from requests->keras-tuner) (3.7)\n",
      "Requirement already satisfied: urllib3<3,>=1.21.1 in /home/zebra/anaconda3/envs/audioClassification/lib/python3.12/site-packages (from requests->keras-tuner) (2.2.3)\n",
      "Requirement already satisfied: certifi>=2017.4.17 in /home/zebra/anaconda3/envs/audioClassification/lib/python3.12/site-packages (from requests->keras-tuner) (2024.8.30)\n",
      "Requirement already satisfied: typing-extensions>=4.5.0 in /home/zebra/anaconda3/envs/audioClassification/lib/python3.12/site-packages (from optree->keras->keras-tuner) (4.11.0)\n",
      "Requirement already satisfied: markdown-it-py>=2.2.0 in /home/zebra/anaconda3/envs/audioClassification/lib/python3.12/site-packages (from rich->keras->keras-tuner) (3.0.0)\n",
      "Requirement already satisfied: pygments<3.0.0,>=2.13.0 in /home/zebra/anaconda3/envs/audioClassification/lib/python3.12/site-packages (from rich->keras->keras-tuner) (2.15.1)\n",
      "Requirement already satisfied: mdurl~=0.1 in /home/zebra/anaconda3/envs/audioClassification/lib/python3.12/site-packages (from markdown-it-py>=2.2.0->rich->keras->keras-tuner) (0.1.2)\n"
     ]
    }
   ],
   "source": [
    "!pip install keras-tuner"
   ]
  },
  {
   "cell_type": "code",
   "execution_count": 8,
   "id": "596f3ddd-ba38-4eda-8b37-66baf1a0789a",
   "metadata": {},
   "outputs": [
    {
     "name": "stdout",
     "output_type": "stream",
     "text": [
      "Requirement already satisfied: seaborn in /home/zebra/anaconda3/envs/audioClassification/lib/python3.12/site-packages (0.13.2)\n",
      "Requirement already satisfied: numpy!=1.24.0,>=1.20 in /home/zebra/anaconda3/envs/audioClassification/lib/python3.12/site-packages (from seaborn) (1.26.4)\n",
      "Requirement already satisfied: pandas>=1.2 in /home/zebra/anaconda3/envs/audioClassification/lib/python3.12/site-packages (from seaborn) (2.2.3)\n",
      "Requirement already satisfied: matplotlib!=3.6.1,>=3.4 in /home/zebra/anaconda3/envs/audioClassification/lib/python3.12/site-packages (from seaborn) (3.9.2)\n",
      "Requirement already satisfied: contourpy>=1.0.1 in /home/zebra/anaconda3/envs/audioClassification/lib/python3.12/site-packages (from matplotlib!=3.6.1,>=3.4->seaborn) (1.3.0)\n",
      "Requirement already satisfied: cycler>=0.10 in /home/zebra/anaconda3/envs/audioClassification/lib/python3.12/site-packages (from matplotlib!=3.6.1,>=3.4->seaborn) (0.12.1)\n",
      "Requirement already satisfied: fonttools>=4.22.0 in /home/zebra/anaconda3/envs/audioClassification/lib/python3.12/site-packages (from matplotlib!=3.6.1,>=3.4->seaborn) (4.54.1)\n",
      "Requirement already satisfied: kiwisolver>=1.3.1 in /home/zebra/anaconda3/envs/audioClassification/lib/python3.12/site-packages (from matplotlib!=3.6.1,>=3.4->seaborn) (1.4.7)\n",
      "Requirement already satisfied: packaging>=20.0 in /home/zebra/anaconda3/envs/audioClassification/lib/python3.12/site-packages (from matplotlib!=3.6.1,>=3.4->seaborn) (24.1)\n",
      "Requirement already satisfied: pillow>=8 in /home/zebra/anaconda3/envs/audioClassification/lib/python3.12/site-packages (from matplotlib!=3.6.1,>=3.4->seaborn) (10.4.0)\n",
      "Requirement already satisfied: pyparsing>=2.3.1 in /home/zebra/anaconda3/envs/audioClassification/lib/python3.12/site-packages (from matplotlib!=3.6.1,>=3.4->seaborn) (3.1.4)\n",
      "Requirement already satisfied: python-dateutil>=2.7 in /home/zebra/anaconda3/envs/audioClassification/lib/python3.12/site-packages (from matplotlib!=3.6.1,>=3.4->seaborn) (2.9.0.post0)\n",
      "Requirement already satisfied: pytz>=2020.1 in /home/zebra/anaconda3/envs/audioClassification/lib/python3.12/site-packages (from pandas>=1.2->seaborn) (2024.1)\n",
      "Requirement already satisfied: tzdata>=2022.7 in /home/zebra/anaconda3/envs/audioClassification/lib/python3.12/site-packages (from pandas>=1.2->seaborn) (2024.2)\n",
      "Requirement already satisfied: six>=1.5 in /home/zebra/anaconda3/envs/audioClassification/lib/python3.12/site-packages (from python-dateutil>=2.7->matplotlib!=3.6.1,>=3.4->seaborn) (1.16.0)\n"
     ]
    }
   ],
   "source": [
    "!pip install seaborn"
   ]
  },
  {
   "cell_type": "markdown",
   "id": "28546268-ae13-4c7d-985c-ccd484c6228e",
   "metadata": {},
   "source": [
    "## Importing Required Dependencies"
   ]
  },
  {
   "cell_type": "code",
   "execution_count": 31,
   "id": "db026c2d-b6c7-47e6-92aa-a2d69fb6fd0b",
   "metadata": {},
   "outputs": [],
   "source": [
    "# Standard Libraries\n",
    "import os\n",
    "from collections import Counter\n",
    "import IPython.display as ipd\n",
    "\n",
    "# Data Handling Libraries\n",
    "import numpy as np\n",
    "import pandas as pd\n",
    "import joblib\n",
    "\n",
    "# Audio Processing Libraries\n",
    "import librosa\n",
    "import librosa.display\n",
    "\n",
    "# Machine Learning Libraries\n",
    "from sklearn.model_selection import train_test_split\n",
    "from sklearn.preprocessing import LabelEncoder, StandardScaler\n",
    "from sklearn.metrics import confusion_matrix\n",
    "from imblearn.over_sampling import SMOTE\n",
    "\n",
    "# Deep Learning Libraries (Tensorflow/Keras)\n",
    "from keras.models import Sequential\n",
    "from keras.layers import Input, Dense, Dropout, Activation, LSTM, Bidirectional\n",
    "from keras.utils import to_categorical\n",
    "import keras_tuner as kt\n",
    "from tensorflow.keras.callbacks import EarlyStopping\n",
    "from tensorflow.keras.models import load_model\n",
    "from keras_tuner import HyperModel\n",
    "from keras.optimizers import Adam\n",
    "\n",
    "# Visualization Libraries\n",
    "import matplotlib.pyplot as plt\n",
    "import seaborn as sns\n",
    "from tqdm import tqdm"
   ]
  },
  {
   "cell_type": "code",
   "execution_count": 32,
   "id": "d7787f5a-8647-453c-b794-5ad50ba4a1ab",
   "metadata": {},
   "outputs": [
    {
     "data": {
      "text/html": [
       "<div>\n",
       "<style scoped>\n",
       "    .dataframe tbody tr th:only-of-type {\n",
       "        vertical-align: middle;\n",
       "    }\n",
       "\n",
       "    .dataframe tbody tr th {\n",
       "        vertical-align: top;\n",
       "    }\n",
       "\n",
       "    .dataframe thead th {\n",
       "        text-align: right;\n",
       "    }\n",
       "</style>\n",
       "<table border=\"1\" class=\"dataframe\">\n",
       "  <thead>\n",
       "    <tr style=\"text-align: right;\">\n",
       "      <th></th>\n",
       "      <th>slice_file_name</th>\n",
       "      <th>fsID</th>\n",
       "      <th>start</th>\n",
       "      <th>end</th>\n",
       "      <th>salience</th>\n",
       "      <th>fold</th>\n",
       "      <th>classID</th>\n",
       "      <th>class</th>\n",
       "    </tr>\n",
       "  </thead>\n",
       "  <tbody>\n",
       "    <tr>\n",
       "      <th>0</th>\n",
       "      <td>100032-3-0-0.wav</td>\n",
       "      <td>100032</td>\n",
       "      <td>0.000000</td>\n",
       "      <td>0.317551</td>\n",
       "      <td>1</td>\n",
       "      <td>5</td>\n",
       "      <td>3</td>\n",
       "      <td>dog_bark</td>\n",
       "    </tr>\n",
       "    <tr>\n",
       "      <th>1</th>\n",
       "      <td>100263-2-0-117.wav</td>\n",
       "      <td>100263</td>\n",
       "      <td>58.500000</td>\n",
       "      <td>62.500000</td>\n",
       "      <td>1</td>\n",
       "      <td>5</td>\n",
       "      <td>2</td>\n",
       "      <td>children_playing</td>\n",
       "    </tr>\n",
       "    <tr>\n",
       "      <th>2</th>\n",
       "      <td>100263-2-0-121.wav</td>\n",
       "      <td>100263</td>\n",
       "      <td>60.500000</td>\n",
       "      <td>64.500000</td>\n",
       "      <td>1</td>\n",
       "      <td>5</td>\n",
       "      <td>2</td>\n",
       "      <td>children_playing</td>\n",
       "    </tr>\n",
       "    <tr>\n",
       "      <th>3</th>\n",
       "      <td>100263-2-0-126.wav</td>\n",
       "      <td>100263</td>\n",
       "      <td>63.000000</td>\n",
       "      <td>67.000000</td>\n",
       "      <td>1</td>\n",
       "      <td>5</td>\n",
       "      <td>2</td>\n",
       "      <td>children_playing</td>\n",
       "    </tr>\n",
       "    <tr>\n",
       "      <th>4</th>\n",
       "      <td>100263-2-0-137.wav</td>\n",
       "      <td>100263</td>\n",
       "      <td>68.500000</td>\n",
       "      <td>72.500000</td>\n",
       "      <td>1</td>\n",
       "      <td>5</td>\n",
       "      <td>2</td>\n",
       "      <td>children_playing</td>\n",
       "    </tr>\n",
       "    <tr>\n",
       "      <th>...</th>\n",
       "      <td>...</td>\n",
       "      <td>...</td>\n",
       "      <td>...</td>\n",
       "      <td>...</td>\n",
       "      <td>...</td>\n",
       "      <td>...</td>\n",
       "      <td>...</td>\n",
       "      <td>...</td>\n",
       "    </tr>\n",
       "    <tr>\n",
       "      <th>8727</th>\n",
       "      <td>99812-1-2-0.wav</td>\n",
       "      <td>99812</td>\n",
       "      <td>159.522205</td>\n",
       "      <td>163.522205</td>\n",
       "      <td>2</td>\n",
       "      <td>7</td>\n",
       "      <td>1</td>\n",
       "      <td>car_horn</td>\n",
       "    </tr>\n",
       "    <tr>\n",
       "      <th>8728</th>\n",
       "      <td>99812-1-3-0.wav</td>\n",
       "      <td>99812</td>\n",
       "      <td>181.142431</td>\n",
       "      <td>183.284976</td>\n",
       "      <td>2</td>\n",
       "      <td>7</td>\n",
       "      <td>1</td>\n",
       "      <td>car_horn</td>\n",
       "    </tr>\n",
       "    <tr>\n",
       "      <th>8729</th>\n",
       "      <td>99812-1-4-0.wav</td>\n",
       "      <td>99812</td>\n",
       "      <td>242.691902</td>\n",
       "      <td>246.197885</td>\n",
       "      <td>2</td>\n",
       "      <td>7</td>\n",
       "      <td>1</td>\n",
       "      <td>car_horn</td>\n",
       "    </tr>\n",
       "    <tr>\n",
       "      <th>8730</th>\n",
       "      <td>99812-1-5-0.wav</td>\n",
       "      <td>99812</td>\n",
       "      <td>253.209850</td>\n",
       "      <td>255.741948</td>\n",
       "      <td>2</td>\n",
       "      <td>7</td>\n",
       "      <td>1</td>\n",
       "      <td>car_horn</td>\n",
       "    </tr>\n",
       "    <tr>\n",
       "      <th>8731</th>\n",
       "      <td>99812-1-6-0.wav</td>\n",
       "      <td>99812</td>\n",
       "      <td>332.289233</td>\n",
       "      <td>334.821332</td>\n",
       "      <td>2</td>\n",
       "      <td>7</td>\n",
       "      <td>1</td>\n",
       "      <td>car_horn</td>\n",
       "    </tr>\n",
       "  </tbody>\n",
       "</table>\n",
       "<p>8732 rows × 8 columns</p>\n",
       "</div>"
      ],
      "text/plain": [
       "         slice_file_name    fsID       start         end  salience  fold  \\\n",
       "0       100032-3-0-0.wav  100032    0.000000    0.317551         1     5   \n",
       "1     100263-2-0-117.wav  100263   58.500000   62.500000         1     5   \n",
       "2     100263-2-0-121.wav  100263   60.500000   64.500000         1     5   \n",
       "3     100263-2-0-126.wav  100263   63.000000   67.000000         1     5   \n",
       "4     100263-2-0-137.wav  100263   68.500000   72.500000         1     5   \n",
       "...                  ...     ...         ...         ...       ...   ...   \n",
       "8727     99812-1-2-0.wav   99812  159.522205  163.522205         2     7   \n",
       "8728     99812-1-3-0.wav   99812  181.142431  183.284976         2     7   \n",
       "8729     99812-1-4-0.wav   99812  242.691902  246.197885         2     7   \n",
       "8730     99812-1-5-0.wav   99812  253.209850  255.741948         2     7   \n",
       "8731     99812-1-6-0.wav   99812  332.289233  334.821332         2     7   \n",
       "\n",
       "      classID             class  \n",
       "0           3          dog_bark  \n",
       "1           2  children_playing  \n",
       "2           2  children_playing  \n",
       "3           2  children_playing  \n",
       "4           2  children_playing  \n",
       "...       ...               ...  \n",
       "8727        1          car_horn  \n",
       "8728        1          car_horn  \n",
       "8729        1          car_horn  \n",
       "8730        1          car_horn  \n",
       "8731        1          car_horn  \n",
       "\n",
       "[8732 rows x 8 columns]"
      ]
     },
     "execution_count": 32,
     "metadata": {},
     "output_type": "execute_result"
    }
   ],
   "source": [
    "metadata = pd.read_csv('../Data/UrbanSound8K.csv')\n",
    "metadata"
   ]
  },
  {
   "cell_type": "code",
   "execution_count": 11,
   "id": "81316ad7-6038-4b7c-95e5-64f99b8ac88c",
   "metadata": {},
   "outputs": [],
   "source": [
    "def extract_features(file_name):\n",
    "    try:\n",
    "        audio, sample_rate = librosa.load(file_name, sr=None)\n",
    "        mfccs = librosa.feature.mfcc(y=audio, sr=sample_rate, n_mfcc=40)\n",
    "        mfccs_scaled = np.mean(mfccs.T, axis=0)\n",
    "    except Exception as e:\n",
    "        print(f\"Error encountered while parsing file: {file_name}\")\n",
    "        return None\n",
    "    return mfccs_scaled"
   ]
  },
  {
   "cell_type": "code",
   "execution_count": 19,
   "id": "cf628d11-5719-4666-8059-59f9d5f192ae",
   "metadata": {},
   "outputs": [],
   "source": [
    "audio_dataset_path = r'F:\\\\SE\\\\SLIIT\\\\Y04S01\\\\Deep Learning\\\\Assignments\\\\DL\\\\Data'"
   ]
  },
  {
   "cell_type": "code",
   "execution_count": 12,
   "id": "f03835f4-e853-42d8-962f-c39588fc86dd",
   "metadata": {},
   "outputs": [],
   "source": [
    "features = []\n",
    "labels = []"
   ]
  },
  {
   "cell_type": "code",
   "execution_count": null,
   "id": "8e2e3e5e-87e9-4b0f-8476-5a3366a88753",
   "metadata": {},
   "outputs": [],
   "source": [
    "for index_num,row in tqdm(metadata.iterrows(), total=metadata.shape[0]):\n",
    "    file_name = os.path.join(os.path.abspath(audio_dataset_path),'fold'+str(row[\"fold\"])+'/',str(row[\"slice_file_name\"]))\n",
    "    final_class_labels=row[\"class\"]\n",
    "    data=extract_features(file_name)\n",
    "    features.append(data)\n",
    "    labels.append(final_class_labels)"
   ]
  },
  {
   "cell_type": "code",
   "execution_count": null,
   "id": "efde313e-5d51-4515-98ec-0701bcba18f2",
   "metadata": {},
   "outputs": [],
   "source": [
    "df_features = pd.DataFrame(features)\n",
    "df_labels = pd.DataFrame(labels, columns=['label'])\n",
    "\n",
    "df_extracted_features = pd.concat([df_features, df_labels], axis=1)\n",
    "\n",
    "df_extracted_features.to_csv('./audio_features.csv', index=False)"
   ]
  },
  {
   "cell_type": "code",
   "execution_count": 33,
   "id": "41bcb513-3819-483d-a8d9-537f72ea683f",
   "metadata": {},
   "outputs": [
    {
     "data": {
      "text/html": [
       "<div>\n",
       "<style scoped>\n",
       "    .dataframe tbody tr th:only-of-type {\n",
       "        vertical-align: middle;\n",
       "    }\n",
       "\n",
       "    .dataframe tbody tr th {\n",
       "        vertical-align: top;\n",
       "    }\n",
       "\n",
       "    .dataframe thead th {\n",
       "        text-align: right;\n",
       "    }\n",
       "</style>\n",
       "<table border=\"1\" class=\"dataframe\">\n",
       "  <thead>\n",
       "    <tr style=\"text-align: right;\">\n",
       "      <th></th>\n",
       "      <th>0</th>\n",
       "      <th>1</th>\n",
       "      <th>2</th>\n",
       "      <th>3</th>\n",
       "      <th>4</th>\n",
       "      <th>5</th>\n",
       "      <th>6</th>\n",
       "      <th>7</th>\n",
       "      <th>8</th>\n",
       "      <th>9</th>\n",
       "      <th>...</th>\n",
       "      <th>31</th>\n",
       "      <th>32</th>\n",
       "      <th>33</th>\n",
       "      <th>34</th>\n",
       "      <th>35</th>\n",
       "      <th>36</th>\n",
       "      <th>37</th>\n",
       "      <th>38</th>\n",
       "      <th>39</th>\n",
       "      <th>label</th>\n",
       "    </tr>\n",
       "  </thead>\n",
       "  <tbody>\n",
       "    <tr>\n",
       "      <th>0</th>\n",
       "      <td>-275.91843</td>\n",
       "      <td>119.49279</td>\n",
       "      <td>-98.211780</td>\n",
       "      <td>-66.515130</td>\n",
       "      <td>-42.606050</td>\n",
       "      <td>0.505065</td>\n",
       "      <td>-28.330935</td>\n",
       "      <td>-5.746867</td>\n",
       "      <td>9.992785</td>\n",
       "      <td>4.795413</td>\n",
       "      <td>...</td>\n",
       "      <td>-3.562048</td>\n",
       "      <td>1.710329</td>\n",
       "      <td>1.032514</td>\n",
       "      <td>-4.748237</td>\n",
       "      <td>-4.013623</td>\n",
       "      <td>0.116840</td>\n",
       "      <td>6.310030</td>\n",
       "      <td>1.492272</td>\n",
       "      <td>1.462319</td>\n",
       "      <td>dog_bark</td>\n",
       "    </tr>\n",
       "    <tr>\n",
       "      <th>1</th>\n",
       "      <td>-500.90840</td>\n",
       "      <td>185.10641</td>\n",
       "      <td>-86.532820</td>\n",
       "      <td>49.858840</td>\n",
       "      <td>9.230822</td>\n",
       "      <td>22.548956</td>\n",
       "      <td>-3.567174</td>\n",
       "      <td>12.220052</td>\n",
       "      <td>7.720082</td>\n",
       "      <td>-6.460392</td>\n",
       "      <td>...</td>\n",
       "      <td>-1.856354</td>\n",
       "      <td>0.372866</td>\n",
       "      <td>-3.269187</td>\n",
       "      <td>-1.969773</td>\n",
       "      <td>-1.598099</td>\n",
       "      <td>0.562077</td>\n",
       "      <td>0.463689</td>\n",
       "      <td>-0.359663</td>\n",
       "      <td>0.909601</td>\n",
       "      <td>children_playing</td>\n",
       "    </tr>\n",
       "    <tr>\n",
       "      <th>2</th>\n",
       "      <td>-531.19530</td>\n",
       "      <td>186.93994</td>\n",
       "      <td>-70.349170</td>\n",
       "      <td>40.429245</td>\n",
       "      <td>9.121048</td>\n",
       "      <td>18.398588</td>\n",
       "      <td>6.283282</td>\n",
       "      <td>15.504061</td>\n",
       "      <td>9.613500</td>\n",
       "      <td>-7.113610</td>\n",
       "      <td>...</td>\n",
       "      <td>-0.291961</td>\n",
       "      <td>0.287639</td>\n",
       "      <td>-3.358315</td>\n",
       "      <td>1.434628</td>\n",
       "      <td>-0.975246</td>\n",
       "      <td>2.386079</td>\n",
       "      <td>-0.347919</td>\n",
       "      <td>-3.844178</td>\n",
       "      <td>-0.731597</td>\n",
       "      <td>children_playing</td>\n",
       "    </tr>\n",
       "    <tr>\n",
       "      <th>3</th>\n",
       "      <td>-476.78442</td>\n",
       "      <td>160.33328</td>\n",
       "      <td>-62.952843</td>\n",
       "      <td>50.751170</td>\n",
       "      <td>-0.174330</td>\n",
       "      <td>32.791600</td>\n",
       "      <td>-17.469800</td>\n",
       "      <td>24.755478</td>\n",
       "      <td>-3.847783</td>\n",
       "      <td>-1.761176</td>\n",
       "      <td>...</td>\n",
       "      <td>-3.374202</td>\n",
       "      <td>-1.012279</td>\n",
       "      <td>-1.025993</td>\n",
       "      <td>-3.666372</td>\n",
       "      <td>-0.071535</td>\n",
       "      <td>-5.693183</td>\n",
       "      <td>1.876606</td>\n",
       "      <td>-1.428173</td>\n",
       "      <td>3.510686</td>\n",
       "      <td>children_playing</td>\n",
       "    </tr>\n",
       "    <tr>\n",
       "      <th>4</th>\n",
       "      <td>-521.24470</td>\n",
       "      <td>185.39265</td>\n",
       "      <td>-81.950480</td>\n",
       "      <td>46.473550</td>\n",
       "      <td>11.872087</td>\n",
       "      <td>23.491444</td>\n",
       "      <td>4.261836</td>\n",
       "      <td>13.637699</td>\n",
       "      <td>6.093238</td>\n",
       "      <td>-2.813453</td>\n",
       "      <td>...</td>\n",
       "      <td>-0.331206</td>\n",
       "      <td>2.441440</td>\n",
       "      <td>0.449652</td>\n",
       "      <td>1.609697</td>\n",
       "      <td>-2.679410</td>\n",
       "      <td>-0.054824</td>\n",
       "      <td>-2.050368</td>\n",
       "      <td>-1.784189</td>\n",
       "      <td>2.869685</td>\n",
       "      <td>children_playing</td>\n",
       "    </tr>\n",
       "    <tr>\n",
       "      <th>...</th>\n",
       "      <td>...</td>\n",
       "      <td>...</td>\n",
       "      <td>...</td>\n",
       "      <td>...</td>\n",
       "      <td>...</td>\n",
       "      <td>...</td>\n",
       "      <td>...</td>\n",
       "      <td>...</td>\n",
       "      <td>...</td>\n",
       "      <td>...</td>\n",
       "      <td>...</td>\n",
       "      <td>...</td>\n",
       "      <td>...</td>\n",
       "      <td>...</td>\n",
       "      <td>...</td>\n",
       "      <td>...</td>\n",
       "      <td>...</td>\n",
       "      <td>...</td>\n",
       "      <td>...</td>\n",
       "      <td>...</td>\n",
       "      <td>...</td>\n",
       "    </tr>\n",
       "    <tr>\n",
       "      <th>8727</th>\n",
       "      <td>-466.63190</td>\n",
       "      <td>193.29425</td>\n",
       "      <td>-63.960163</td>\n",
       "      <td>30.475616</td>\n",
       "      <td>-9.339019</td>\n",
       "      <td>23.975900</td>\n",
       "      <td>-14.627114</td>\n",
       "      <td>27.502554</td>\n",
       "      <td>3.764654</td>\n",
       "      <td>4.351698</td>\n",
       "      <td>...</td>\n",
       "      <td>-5.908267</td>\n",
       "      <td>-0.086640</td>\n",
       "      <td>8.064040</td>\n",
       "      <td>4.842944</td>\n",
       "      <td>-1.370681</td>\n",
       "      <td>-8.400169</td>\n",
       "      <td>1.039637</td>\n",
       "      <td>2.128600</td>\n",
       "      <td>4.718456</td>\n",
       "      <td>car_horn</td>\n",
       "    </tr>\n",
       "    <tr>\n",
       "      <th>8728</th>\n",
       "      <td>-396.77737</td>\n",
       "      <td>134.76804</td>\n",
       "      <td>-64.882770</td>\n",
       "      <td>42.310800</td>\n",
       "      <td>-1.868765</td>\n",
       "      <td>0.876937</td>\n",
       "      <td>-36.872650</td>\n",
       "      <td>42.781456</td>\n",
       "      <td>-9.984668</td>\n",
       "      <td>-5.920936</td>\n",
       "      <td>...</td>\n",
       "      <td>1.580030</td>\n",
       "      <td>-4.441753</td>\n",
       "      <td>3.187478</td>\n",
       "      <td>-3.398616</td>\n",
       "      <td>1.737199</td>\n",
       "      <td>3.312875</td>\n",
       "      <td>2.611360</td>\n",
       "      <td>0.158990</td>\n",
       "      <td>0.844662</td>\n",
       "      <td>car_horn</td>\n",
       "    </tr>\n",
       "    <tr>\n",
       "      <th>8729</th>\n",
       "      <td>-362.70322</td>\n",
       "      <td>165.08179</td>\n",
       "      <td>-60.780693</td>\n",
       "      <td>30.996470</td>\n",
       "      <td>-9.655406</td>\n",
       "      <td>23.180807</td>\n",
       "      <td>-18.668150</td>\n",
       "      <td>27.321250</td>\n",
       "      <td>-7.465636</td>\n",
       "      <td>7.173613</td>\n",
       "      <td>...</td>\n",
       "      <td>2.579410</td>\n",
       "      <td>-2.790286</td>\n",
       "      <td>2.743991</td>\n",
       "      <td>-4.914998</td>\n",
       "      <td>-4.034191</td>\n",
       "      <td>-5.768603</td>\n",
       "      <td>-1.840645</td>\n",
       "      <td>2.607495</td>\n",
       "      <td>3.903050</td>\n",
       "      <td>car_horn</td>\n",
       "    </tr>\n",
       "    <tr>\n",
       "      <th>8730</th>\n",
       "      <td>-404.62810</td>\n",
       "      <td>178.50473</td>\n",
       "      <td>-63.615627</td>\n",
       "      <td>25.944529</td>\n",
       "      <td>-10.428956</td>\n",
       "      <td>12.489921</td>\n",
       "      <td>-24.788843</td>\n",
       "      <td>35.468410</td>\n",
       "      <td>-3.097389</td>\n",
       "      <td>0.915603</td>\n",
       "      <td>...</td>\n",
       "      <td>-0.693243</td>\n",
       "      <td>-2.208296</td>\n",
       "      <td>4.955165</td>\n",
       "      <td>-0.435411</td>\n",
       "      <td>-1.857112</td>\n",
       "      <td>-7.561953</td>\n",
       "      <td>-0.168980</td>\n",
       "      <td>3.911847</td>\n",
       "      <td>4.805304</td>\n",
       "      <td>car_horn</td>\n",
       "    </tr>\n",
       "    <tr>\n",
       "      <th>8731</th>\n",
       "      <td>-369.63705</td>\n",
       "      <td>147.90456</td>\n",
       "      <td>-63.150425</td>\n",
       "      <td>47.780514</td>\n",
       "      <td>-9.488718</td>\n",
       "      <td>33.391727</td>\n",
       "      <td>-30.122765</td>\n",
       "      <td>30.130270</td>\n",
       "      <td>-9.736057</td>\n",
       "      <td>14.229150</td>\n",
       "      <td>...</td>\n",
       "      <td>-3.804771</td>\n",
       "      <td>-11.533294</td>\n",
       "      <td>6.525465</td>\n",
       "      <td>1.719672</td>\n",
       "      <td>2.567312</td>\n",
       "      <td>-9.492548</td>\n",
       "      <td>-6.346464</td>\n",
       "      <td>1.464323</td>\n",
       "      <td>5.358857</td>\n",
       "      <td>car_horn</td>\n",
       "    </tr>\n",
       "  </tbody>\n",
       "</table>\n",
       "<p>8732 rows × 41 columns</p>\n",
       "</div>"
      ],
      "text/plain": [
       "              0          1          2          3          4          5  \\\n",
       "0    -275.91843  119.49279 -98.211780 -66.515130 -42.606050   0.505065   \n",
       "1    -500.90840  185.10641 -86.532820  49.858840   9.230822  22.548956   \n",
       "2    -531.19530  186.93994 -70.349170  40.429245   9.121048  18.398588   \n",
       "3    -476.78442  160.33328 -62.952843  50.751170  -0.174330  32.791600   \n",
       "4    -521.24470  185.39265 -81.950480  46.473550  11.872087  23.491444   \n",
       "...         ...        ...        ...        ...        ...        ...   \n",
       "8727 -466.63190  193.29425 -63.960163  30.475616  -9.339019  23.975900   \n",
       "8728 -396.77737  134.76804 -64.882770  42.310800  -1.868765   0.876937   \n",
       "8729 -362.70322  165.08179 -60.780693  30.996470  -9.655406  23.180807   \n",
       "8730 -404.62810  178.50473 -63.615627  25.944529 -10.428956  12.489921   \n",
       "8731 -369.63705  147.90456 -63.150425  47.780514  -9.488718  33.391727   \n",
       "\n",
       "              6          7         8          9  ...        31         32  \\\n",
       "0    -28.330935  -5.746867  9.992785   4.795413  ... -3.562048   1.710329   \n",
       "1     -3.567174  12.220052  7.720082  -6.460392  ... -1.856354   0.372866   \n",
       "2      6.283282  15.504061  9.613500  -7.113610  ... -0.291961   0.287639   \n",
       "3    -17.469800  24.755478 -3.847783  -1.761176  ... -3.374202  -1.012279   \n",
       "4      4.261836  13.637699  6.093238  -2.813453  ... -0.331206   2.441440   \n",
       "...         ...        ...       ...        ...  ...       ...        ...   \n",
       "8727 -14.627114  27.502554  3.764654   4.351698  ... -5.908267  -0.086640   \n",
       "8728 -36.872650  42.781456 -9.984668  -5.920936  ...  1.580030  -4.441753   \n",
       "8729 -18.668150  27.321250 -7.465636   7.173613  ...  2.579410  -2.790286   \n",
       "8730 -24.788843  35.468410 -3.097389   0.915603  ... -0.693243  -2.208296   \n",
       "8731 -30.122765  30.130270 -9.736057  14.229150  ... -3.804771 -11.533294   \n",
       "\n",
       "            33        34        35        36        37        38        39  \\\n",
       "0     1.032514 -4.748237 -4.013623  0.116840  6.310030  1.492272  1.462319   \n",
       "1    -3.269187 -1.969773 -1.598099  0.562077  0.463689 -0.359663  0.909601   \n",
       "2    -3.358315  1.434628 -0.975246  2.386079 -0.347919 -3.844178 -0.731597   \n",
       "3    -1.025993 -3.666372 -0.071535 -5.693183  1.876606 -1.428173  3.510686   \n",
       "4     0.449652  1.609697 -2.679410 -0.054824 -2.050368 -1.784189  2.869685   \n",
       "...        ...       ...       ...       ...       ...       ...       ...   \n",
       "8727  8.064040  4.842944 -1.370681 -8.400169  1.039637  2.128600  4.718456   \n",
       "8728  3.187478 -3.398616  1.737199  3.312875  2.611360  0.158990  0.844662   \n",
       "8729  2.743991 -4.914998 -4.034191 -5.768603 -1.840645  2.607495  3.903050   \n",
       "8730  4.955165 -0.435411 -1.857112 -7.561953 -0.168980  3.911847  4.805304   \n",
       "8731  6.525465  1.719672  2.567312 -9.492548 -6.346464  1.464323  5.358857   \n",
       "\n",
       "                 label  \n",
       "0             dog_bark  \n",
       "1     children_playing  \n",
       "2     children_playing  \n",
       "3     children_playing  \n",
       "4     children_playing  \n",
       "...                ...  \n",
       "8727          car_horn  \n",
       "8728          car_horn  \n",
       "8729          car_horn  \n",
       "8730          car_horn  \n",
       "8731          car_horn  \n",
       "\n",
       "[8732 rows x 41 columns]"
      ]
     },
     "execution_count": 33,
     "metadata": {},
     "output_type": "execute_result"
    }
   ],
   "source": [
    "df_audio_features = pd.read_csv('../Results/audio_features.csv')\n",
    "df_audio_features"
   ]
  },
  {
   "cell_type": "code",
   "execution_count": 34,
   "id": "8c4be42f-538e-4871-b403-7f6e63b5f1df",
   "metadata": {},
   "outputs": [
    {
     "data": {
      "image/png": "[encoded data removed]",
      "text/plain": [
       "<Figure size 1000x600 with 2 Axes>"
      ]
     },
     "metadata": {},
     "output_type": "display_data"
    }
   ],
   "source": [
    "def plot_extracted_mfcc(df, file_index):\n",
    "    \n",
    "    mfcc_features = df.iloc[file_index, :-1].values\n",
    "\n",
    "    mfcc_features = mfcc_features.astype(float)\n",
    "\n",
    "    mfcc_matrix = mfcc_features.reshape(1, -1) \n",
    "\n",
    "    plt.figure(figsize=(10, 6))\n",
    "    plt.imshow(mfcc_matrix, aspect='auto', cmap='viridis')\n",
    "    plt.colorbar()\n",
    "    plt.title(f'MFCC for Audio File at Index {file_index}')\n",
    "    plt.xlabel('MFCC Coefficients')\n",
    "    plt.ylabel('Time (Simulated)')\n",
    "    plt.show()\n",
    "\n",
    "plot_extracted_mfcc(df_audio_features, file_index=50)"
   ]
  },
  {
   "cell_type": "code",
   "execution_count": 35,
   "id": "e65ab9e5-cf98-49c2-a50f-8373ee5d23f3",
   "metadata": {},
   "outputs": [],
   "source": [
    "X = df_audio_features.drop(columns=['label']).values\n",
    "y = df_audio_features['label'].values"
   ]
  },
  {
   "cell_type": "code",
   "execution_count": 36,
   "id": "30056f42-fe28-435d-a357-e85e97bced52",
   "metadata": {},
   "outputs": [
    {
     "data": {
      "text/plain": [
       "array([[0, 0, 0, ..., 0, 0, 0],\n",
       "       [0, 0, 1, ..., 0, 0, 0],\n",
       "       [0, 0, 1, ..., 0, 0, 0],\n",
       "       ...,\n",
       "       [0, 1, 0, ..., 0, 0, 0],\n",
       "       [0, 1, 0, ..., 0, 0, 0],\n",
       "       [0, 1, 0, ..., 0, 0, 0]])"
      ]
     },
     "execution_count": 36,
     "metadata": {},
     "output_type": "execute_result"
    }
   ],
   "source": [
    "y=np.array(pd.get_dummies(y,dtype=int))\n",
    "y"
   ]
  },
  {
   "cell_type": "code",
   "execution_count": 37,
   "id": "dba47734-e048-4603-ad7d-abeea7f0eb32",
   "metadata": {},
   "outputs": [
    {
     "name": "stdout",
     "output_type": "stream",
     "text": [
      "Class distribution after resampling:\n",
      " Counter({3: 1000, 2: 1000, 1: 1000, 0: 1000, 9: 1000, 6: 1000, 8: 1000, 5: 1000, 7: 1000, 4: 1000})\n"
     ]
    }
   ],
   "source": [
    "smote = SMOTE(random_state=0)\n",
    "X_resampled, y_resampled = smote.fit_resample(X, y)\n",
    "\n",
    "y_resampled_labels = np.argmax(y_resampled, axis=1)\n",
    "\n",
    "counter = Counter(y_resampled_labels)\n",
    "\n",
    "print(\"Class distribution after resampling:\\n\", counter)"
   ]
  },
  {
   "cell_type": "code",
   "execution_count": 38,
   "id": "1e0a3c1c-5bae-4c2b-a6d3-352d52110ba8",
   "metadata": {},
   "outputs": [],
   "source": [
    "X_train, X_test, y_train, y_test = train_test_split(X_resampled, y_resampled, test_size=0.2, random_state=42)"
   ]
  },
  {
   "cell_type": "code",
   "execution_count": 39,
   "id": "8d52cf7b-11e0-4472-9cb9-0528d9ae9b7f",
   "metadata": {},
   "outputs": [
    {
     "data": {
      "text/plain": [
       "['lstm_standard_scaler.pkl']"
      ]
     },
     "execution_count": 39,
     "metadata": {},
     "output_type": "execute_result"
    }
   ],
   "source": [
    "scaler = StandardScaler()\n",
    "\n",
    "X_train = scaler.fit_transform(X_train)\n",
    "X_test = scaler.transform(X_test)\n",
    "\n",
    "joblib.dump(scaler, 'lstm_standard_scaler.pkl')"
   ]
  },
  {
   "cell_type": "code",
   "execution_count": 40,
   "id": "b873e6d4-05cb-4fe6-9ce7-b959b3e0811e",
   "metadata": {},
   "outputs": [],
   "source": [
    "# Apply SMOTE to the training data\n",
    "smote = SMOTE(random_state=42)\n",
    "X_train_resampled, y_train_resampled = smote.fit_resample(X_train, y_train)\n",
    "\n",
    "# One-hot encode the labels\n",
    "y_train_resampled_categorical = to_categorical(y_train_resampled)\n",
    "y_test_categorical = to_categorical(y_test)"
   ]
  },
  {
   "cell_type": "code",
   "execution_count": 41,
   "id": "b9a7d3f0-7a33-413a-bf49-370fb6c9fc45",
   "metadata": {},
   "outputs": [],
   "source": [
    "class LSTMHyperModel(HyperModel):\n",
    "\n",
    "    def __init__(self, input_shape, output_units):\n",
    "        self.input_shape = input_shape\n",
    "        self.output_units = output_units\n",
    "\n",
    "    def build(self, hp):\n",
    "        model = Sequential()\n",
    "\n",
    "        # First LSTM layer\n",
    "        model.add(LSTM(\n",
    "            units=hp.Int('units_layer1', min_value=32, max_value=512, step=32),\n",
    "            activation=hp.Choice('activation_layer1', values=['relu', 'tanh', 'sigmoid']),\n",
    "            input_shape=self.input_shape,\n",
    "            return_sequences=True\n",
    "        ))\n",
    "        model.add(Dropout(hp.Float('dropout_layer1', min_value=0, max_value=0.5, step=0.1)))\n",
    "\n",
    "        # Second LSTM layer\n",
    "        model.add(LSTM(\n",
    "            units=hp.Int('units_layer2', min_value=32, max_value=512, step=32),\n",
    "            activation=hp.Choice('activation_layer2', values=['relu', 'tanh', 'sigmoid'])\n",
    "        ))\n",
    "        model.add(Dropout(hp.Float('dropout_layer2', min_value=0, max_value=0.5, step=0.1)))\n",
    "\n",
    "        # Output layer\n",
    "        model.add(Dense(self.output_units, activation='softmax'))\n",
    "\n",
    "        # Compile the model\n",
    "        model.compile(optimizer=Adam(\n",
    "                          hp.Choice('learning_rate', values=[1e-2, 1e-3, 1e-4])),\n",
    "                      loss='categorical_crossentropy',\n",
    "                      metrics=['accuracy'])\n",
    "        \n",
    "        return model"
   ]
  },
  {
   "cell_type": "code",
   "execution_count": 42,
   "id": "92982270-6438-418b-8d11-3e14495e5871",
   "metadata": {},
   "outputs": [],
   "source": [
    "early_stopping = EarlyStopping(\n",
    "    monitor='val_loss',\n",
    "    patience=5,\n",
    "    restore_best_weights=True\n",
    ")"
   ]
  },
  {
   "cell_type": "code",
   "execution_count": 43,
   "id": "968daaa8-c637-4867-872e-c4f0cc6149e4",
   "metadata": {},
   "outputs": [],
   "source": [
    "possible_epochs = [50, 100]"
   ]
  },
  {
   "cell_type": "code",
   "execution_count": 44,
   "id": "ac209959-58e8-4ac0-b1c3-e33a5a3cc309",
   "metadata": {},
   "outputs": [],
   "source": [
    "input_shape = (40, 1)\n",
    "output_units = y_train.shape[1]"
   ]
  },
  {
   "cell_type": "code",
   "execution_count": 45,
   "id": "00b12130-3b0b-4063-af4b-e6ccac67eae2",
   "metadata": {},
   "outputs": [],
   "source": [
    "# Instantiate the HyperModel\n",
    "lstm_hypermodel = LSTMHyperModel(input_shape=input_shape, output_units=output_units)"
   ]
  },
  {
   "cell_type": "code",
   "execution_count": 46,
   "id": "801588f8-72de-45dc-95e7-b2907cc7638f",
   "metadata": {},
   "outputs": [
    {
     "name": "stdout",
     "output_type": "stream",
     "text": [
      "Training with 50 epochs\n",
      "Reloading Tuner from ../Results/lstm_tuner/lstm_epoch_50/tuner0.json\n",
      "Training with 100 epochs\n",
      "Reloading Tuner from ../Results/lstm_tuner/lstm_epoch_100/tuner0.json\n"
     ]
    }
   ],
   "source": [
    "for epoch_count in possible_epochs:\n",
    "    print(f\"Training with {epoch_count} epochs\")\n",
    "\n",
    "    # Instantiate Keras Tuner using RandomSearch\n",
    "    tuner = kt.RandomSearch(\n",
    "        lstm_hypermodel,\n",
    "        objective='val_accuracy',\n",
    "        max_trials=10,  # Number of different hyperparameter combinations to try\n",
    "        executions_per_trial=1,  # Number of executions for each trial\n",
    "        directory='../Results/lstm_tuner',\n",
    "        project_name=f'lstm_epoch_{epoch_count}'\n",
    "    )\n",
    "\n",
    "    # Start the search with the defined epoch count\n",
    "    tuner.search(\n",
    "        X_train, y_train,\n",
    "        epochs=epoch_count,\n",
    "        validation_split=0.2,\n",
    "        callbacks=[early_stopping]\n",
    "    )\n"
   ]
  },
  {
   "cell_type": "code",
   "execution_count": 47,
   "id": "80bc3879-bec7-443c-88a6-2214f1a7da07",
   "metadata": {},
   "outputs": [
    {
     "name": "stderr",
     "output_type": "stream",
     "text": [
      "/home/zebra/anaconda3/envs/audioClassification/lib/python3.12/site-packages/keras/src/layers/rnn/rnn.py:204: UserWarning: Do not pass an `input_shape`/`input_dim` argument to a layer. When using Sequential models, prefer using an `Input(shape)` object as the first layer in the model instead.\n",
      "  super().__init__(**kwargs)\n",
      "/home/zebra/anaconda3/envs/audioClassification/lib/python3.12/site-packages/keras/src/saving/saving_lib.py:719: UserWarning: Skipping variable loading for optimizer 'adam', because it has 2 variables whereas the saved optimizer has 18 variables. \n",
      "  saveable.load_own_variables(weights_store.get(inner_path))\n"
     ]
    }
   ],
   "source": [
    "# Retrieve the best model\n",
    "best_model = tuner.get_best_models(num_models=1)[0]"
   ]
  },
  {
   "cell_type": "code",
   "execution_count": 48,
   "id": "b977099e-6552-431e-a6c4-b77f50a3ade5",
   "metadata": {},
   "outputs": [
    {
     "name": "stdout",
     "output_type": "stream",
     "text": [
      "0.8705000281333923\n"
     ]
    }
   ],
   "source": [
    "test_accuracy=best_model.evaluate(X_test,y_test,verbose=0)\n",
    "print(test_accuracy[1])"
   ]
  },
  {
   "cell_type": "code",
   "execution_count": 49,
   "id": "5f08c763-a677-4e03-8cab-0fb724e5d930",
   "metadata": {},
   "outputs": [],
   "source": [
    "# Retrieve the best hyperparameters\n",
    "best_hyperparameters = tuner.get_best_hyperparameters(num_trials=1)[0]\n",
    "\n",
    "# Convert hyperparameters to a pandas DataFrame\n",
    "hyperparameters_df = pd.DataFrame(list(best_hyperparameters.values.items()), columns=[\"Hyperparameter\", \"Value\"])"
   ]
  },
  {
   "cell_type": "code",
   "execution_count": 50,
   "id": "2cca90c6-53b1-4a0d-be93-46414fcc76b9",
   "metadata": {},
   "outputs": [
    {
     "data": {
      "text/html": [
       "<div>\n",
       "<style scoped>\n",
       "    .dataframe tbody tr th:only-of-type {\n",
       "        vertical-align: middle;\n",
       "    }\n",
       "\n",
       "    .dataframe tbody tr th {\n",
       "        vertical-align: top;\n",
       "    }\n",
       "\n",
       "    .dataframe thead th {\n",
       "        text-align: right;\n",
       "    }\n",
       "</style>\n",
       "<table border=\"1\" class=\"dataframe\">\n",
       "  <thead>\n",
       "    <tr style=\"text-align: right;\">\n",
       "      <th></th>\n",
       "      <th>Hyperparameter</th>\n",
       "      <th>Value</th>\n",
       "    </tr>\n",
       "  </thead>\n",
       "  <tbody>\n",
       "    <tr>\n",
       "      <th>0</th>\n",
       "      <td>units_layer1</td>\n",
       "      <td>192</td>\n",
       "    </tr>\n",
       "    <tr>\n",
       "      <th>1</th>\n",
       "      <td>activation_layer1</td>\n",
       "      <td>sigmoid</td>\n",
       "    </tr>\n",
       "    <tr>\n",
       "      <th>2</th>\n",
       "      <td>dropout_layer1</td>\n",
       "      <td>0.3</td>\n",
       "    </tr>\n",
       "    <tr>\n",
       "      <th>3</th>\n",
       "      <td>units_layer2</td>\n",
       "      <td>416</td>\n",
       "    </tr>\n",
       "    <tr>\n",
       "      <th>4</th>\n",
       "      <td>activation_layer2</td>\n",
       "      <td>tanh</td>\n",
       "    </tr>\n",
       "    <tr>\n",
       "      <th>5</th>\n",
       "      <td>dropout_layer2</td>\n",
       "      <td>0.4</td>\n",
       "    </tr>\n",
       "    <tr>\n",
       "      <th>6</th>\n",
       "      <td>learning_rate</td>\n",
       "      <td>0.001</td>\n",
       "    </tr>\n",
       "  </tbody>\n",
       "</table>\n",
       "</div>"
      ],
      "text/plain": [
       "      Hyperparameter    Value\n",
       "0       units_layer1      192\n",
       "1  activation_layer1  sigmoid\n",
       "2     dropout_layer1      0.3\n",
       "3       units_layer2      416\n",
       "4  activation_layer2     tanh\n",
       "5     dropout_layer2      0.4\n",
       "6      learning_rate    0.001"
      ]
     },
     "execution_count": 50,
     "metadata": {},
     "output_type": "execute_result"
    }
   ],
   "source": [
    "hyperparameters_df"
   ]
  },
  {
   "cell_type": "code",
   "execution_count": 51,
   "id": "31354c93-c287-4d2b-9da7-87ff0add3321",
   "metadata": {},
   "outputs": [],
   "source": [
    "best_model.save('../Models/best_lstm_model.keras')"
   ]
  },
  {
   "cell_type": "code",
   "execution_count": 52,
   "id": "69b78275-1724-462e-929b-29ee72efeaf0",
   "metadata": {},
   "outputs": [
    {
     "data": {
      "text/html": [
       "<div>\n",
       "<style scoped>\n",
       "    .dataframe tbody tr th:only-of-type {\n",
       "        vertical-align: middle;\n",
       "    }\n",
       "\n",
       "    .dataframe tbody tr th {\n",
       "        vertical-align: top;\n",
       "    }\n",
       "\n",
       "    .dataframe thead th {\n",
       "        text-align: right;\n",
       "    }\n",
       "</style>\n",
       "<table border=\"1\" class=\"dataframe\">\n",
       "  <thead>\n",
       "    <tr style=\"text-align: right;\">\n",
       "      <th></th>\n",
       "      <th>Epochs</th>\n",
       "      <th>Units Layer 1</th>\n",
       "      <th>Activation Layer 1</th>\n",
       "      <th>Dropout Layer 1</th>\n",
       "      <th>Units Layer 2</th>\n",
       "      <th>Activation Layer 2</th>\n",
       "      <th>Dropout Layer 2</th>\n",
       "      <th>Learning Rate</th>\n",
       "    </tr>\n",
       "  </thead>\n",
       "  <tbody>\n",
       "    <tr>\n",
       "      <th>0</th>\n",
       "      <td>50</td>\n",
       "      <td>288</td>\n",
       "      <td>relu</td>\n",
       "      <td>0.2</td>\n",
       "      <td>416</td>\n",
       "      <td>tanh</td>\n",
       "      <td>0.1</td>\n",
       "      <td>0.0001</td>\n",
       "    </tr>\n",
       "    <tr>\n",
       "      <th>1</th>\n",
       "      <td>100</td>\n",
       "      <td>96</td>\n",
       "      <td>sigmoid</td>\n",
       "      <td>0.4</td>\n",
       "      <td>320</td>\n",
       "      <td>tanh</td>\n",
       "      <td>0.0</td>\n",
       "      <td>0.0001</td>\n",
       "    </tr>\n",
       "  </tbody>\n",
       "</table>\n",
       "</div>"
      ],
      "text/plain": [
       "   Epochs  Units Layer 1 Activation Layer 1  Dropout Layer 1  Units Layer 2  \\\n",
       "0      50            288               relu              0.2            416   \n",
       "1     100             96            sigmoid              0.4            320   \n",
       "\n",
       "  Activation Layer 2  Dropout Layer 2  Learning Rate  \n",
       "0               tanh              0.1         0.0001  \n",
       "1               tanh              0.0         0.0001  "
      ]
     },
     "execution_count": 52,
     "metadata": {},
     "output_type": "execute_result"
    }
   ],
   "source": [
    "# Data for the two training runs\n",
    "data = {\n",
    "    \"Epochs\": [50, 100],\n",
    "    \"Units Layer 1\": [288, 96],\n",
    "    \"Activation Layer 1\": [\"relu\", \"sigmoid\"],\n",
    "    \"Dropout Layer 1\": [0.2, 0.4],\n",
    "    \"Units Layer 2\": [416, 320],\n",
    "    \"Activation Layer 2\": [\"tanh\", \"tanh\"],\n",
    "    \"Dropout Layer 2\": [0.1, 0.0],\n",
    "    \"Learning Rate\": [0.0001, 0.0001],\n",
    "    \n",
    "}\n",
    "\n",
    "# Creating a pandas DataFrame\n",
    "df = pd.DataFrame(data)\n",
    "\n",
    "df"
   ]
  },
  {
   "cell_type": "code",
   "execution_count": 53,
   "id": "64bc23e6-6618-4c75-83a0-2e7136debf3e",
   "metadata": {},
   "outputs": [
    {
     "name": "stdout",
     "output_type": "stream",
     "text": [
      "Epoch 1/100\n"
     ]
    },
    {
     "name": "stderr",
     "output_type": "stream",
     "text": [
      "/home/zebra/anaconda3/envs/audioClassification/lib/python3.12/site-packages/keras/src/layers/rnn/rnn.py:204: UserWarning: Do not pass an `input_shape`/`input_dim` argument to a layer. When using Sequential models, prefer using an `Input(shape)` object as the first layer in the model instead.\n",
      "  super().__init__(**kwargs)\n"
     ]
    },
    {
     "name": "stdout",
     "output_type": "stream",
     "text": [
      "\u001b[1m200/200\u001b[0m \u001b[32m━━━━━━━━━━━━━━━━━━━━\u001b[0m\u001b[37m\u001b[0m \u001b[1m25s\u001b[0m 118ms/step - accuracy: 0.1067 - loss: 2.3612 - val_accuracy: 0.0981 - val_loss: 2.3095\n",
      "Epoch 2/100\n",
      "\u001b[1m200/200\u001b[0m \u001b[32m━━━━━━━━━━━━━━━━━━━━\u001b[0m\u001b[37m\u001b[0m \u001b[1m23s\u001b[0m 115ms/step - accuracy: 0.1160 - loss: 2.3035 - val_accuracy: 0.1775 - val_loss: 2.2272\n",
      "Epoch 3/100\n",
      "\u001b[1m200/200\u001b[0m \u001b[32m━━━━━━━━━━━━━━━━━━━━\u001b[0m\u001b[37m\u001b[0m \u001b[1m23s\u001b[0m 116ms/step - accuracy: 0.1808 - loss: 2.1920 - val_accuracy: 0.1863 - val_loss: 2.1684\n",
      "Epoch 4/100\n",
      "\u001b[1m200/200\u001b[0m \u001b[32m━━━━━━━━━━━━━━━━━━━━\u001b[0m\u001b[37m\u001b[0m \u001b[1m23s\u001b[0m 115ms/step - accuracy: 0.2654 - loss: 2.0270 - val_accuracy: 0.3494 - val_loss: 1.7882\n",
      "Epoch 5/100\n",
      "\u001b[1m200/200\u001b[0m \u001b[32m━━━━━━━━━━━━━━━━━━━━\u001b[0m\u001b[37m\u001b[0m \u001b[1m23s\u001b[0m 115ms/step - accuracy: 0.3920 - loss: 1.7095 - val_accuracy: 0.4806 - val_loss: 1.4426\n",
      "Epoch 6/100\n",
      "\u001b[1m200/200\u001b[0m \u001b[32m━━━━━━━━━━━━━━━━━━━━\u001b[0m\u001b[37m\u001b[0m \u001b[1m25s\u001b[0m 123ms/step - accuracy: 0.5026 - loss: 1.4212 - val_accuracy: 0.5544 - val_loss: 1.2612\n",
      "Epoch 7/100\n",
      "\u001b[1m200/200\u001b[0m \u001b[32m━━━━━━━━━━━━━━━━━━━━\u001b[0m\u001b[37m\u001b[0m \u001b[1m27s\u001b[0m 135ms/step - accuracy: 0.5679 - loss: 1.2538 - val_accuracy: 0.6112 - val_loss: 1.1189\n",
      "Epoch 8/100\n",
      "\u001b[1m200/200\u001b[0m \u001b[32m━━━━━━━━━━━━━━━━━━━━\u001b[0m\u001b[37m\u001b[0m \u001b[1m25s\u001b[0m 123ms/step - accuracy: 0.6150 - loss: 1.1022 - val_accuracy: 0.6869 - val_loss: 0.9670\n",
      "Epoch 9/100\n",
      "\u001b[1m200/200\u001b[0m \u001b[32m━━━━━━━━━━━━━━━━━━━━\u001b[0m\u001b[37m\u001b[0m \u001b[1m24s\u001b[0m 119ms/step - accuracy: 0.6847 - loss: 0.9397 - val_accuracy: 0.6919 - val_loss: 0.9246\n",
      "Epoch 10/100\n",
      "\u001b[1m200/200\u001b[0m \u001b[32m━━━━━━━━━━━━━━━━━━━━\u001b[0m\u001b[37m\u001b[0m \u001b[1m27s\u001b[0m 134ms/step - accuracy: 0.7095 - loss: 0.8728 - val_accuracy: 0.7256 - val_loss: 0.8120\n",
      "Epoch 11/100\n",
      "\u001b[1m200/200\u001b[0m \u001b[32m━━━━━━━━━━━━━━━━━━━━\u001b[0m\u001b[37m\u001b[0m \u001b[1m27s\u001b[0m 137ms/step - accuracy: 0.7576 - loss: 0.7199 - val_accuracy: 0.7387 - val_loss: 0.7503\n",
      "Epoch 12/100\n",
      "\u001b[1m200/200\u001b[0m \u001b[32m━━━━━━━━━━━━━━━━━━━━\u001b[0m\u001b[37m\u001b[0m \u001b[1m28s\u001b[0m 138ms/step - accuracy: 0.7963 - loss: 0.6004 - val_accuracy: 0.7506 - val_loss: 0.7218\n",
      "Epoch 13/100\n",
      "\u001b[1m200/200\u001b[0m \u001b[32m━━━━━━━━━━━━━━━━━━━━\u001b[0m\u001b[37m\u001b[0m \u001b[1m27s\u001b[0m 133ms/step - accuracy: 0.8027 - loss: 0.5761 - val_accuracy: 0.7669 - val_loss: 0.6698\n",
      "Epoch 14/100\n",
      "\u001b[1m200/200\u001b[0m \u001b[32m━━━━━━━━━━━━━━━━━━━━\u001b[0m\u001b[37m\u001b[0m \u001b[1m27s\u001b[0m 136ms/step - accuracy: 0.8548 - loss: 0.4558 - val_accuracy: 0.7994 - val_loss: 0.6185\n",
      "Epoch 15/100\n",
      "\u001b[1m200/200\u001b[0m \u001b[32m━━━━━━━━━━━━━━━━━━━━\u001b[0m\u001b[37m\u001b[0m \u001b[1m24s\u001b[0m 119ms/step - accuracy: 0.8689 - loss: 0.4096 - val_accuracy: 0.8075 - val_loss: 0.6024\n",
      "Epoch 16/100\n",
      "\u001b[1m200/200\u001b[0m \u001b[32m━━━━━━━━━━━━━━━━━━━━\u001b[0m\u001b[37m\u001b[0m \u001b[1m25s\u001b[0m 126ms/step - accuracy: 0.8800 - loss: 0.3564 - val_accuracy: 0.7975 - val_loss: 0.6475\n",
      "Epoch 17/100\n",
      "\u001b[1m200/200\u001b[0m \u001b[32m━━━━━━━━━━━━━━━━━━━━\u001b[0m\u001b[37m\u001b[0m \u001b[1m27s\u001b[0m 137ms/step - accuracy: 0.8801 - loss: 0.3624 - val_accuracy: 0.8163 - val_loss: 0.5574\n",
      "Epoch 18/100\n",
      "\u001b[1m200/200\u001b[0m \u001b[32m━━━━━━━━━━━━━━━━━━━━\u001b[0m\u001b[37m\u001b[0m \u001b[1m27s\u001b[0m 137ms/step - accuracy: 0.9097 - loss: 0.2857 - val_accuracy: 0.8294 - val_loss: 0.5351\n",
      "Epoch 19/100\n",
      "\u001b[1m200/200\u001b[0m \u001b[32m━━━━━━━━━━━━━━━━━━━━\u001b[0m\u001b[37m\u001b[0m \u001b[1m27s\u001b[0m 137ms/step - accuracy: 0.9158 - loss: 0.2525 - val_accuracy: 0.8100 - val_loss: 0.5946\n",
      "Epoch 20/100\n",
      "\u001b[1m200/200\u001b[0m \u001b[32m━━━━━━━━━━━━━━━━━━━━\u001b[0m\u001b[37m\u001b[0m \u001b[1m27s\u001b[0m 137ms/step - accuracy: 0.9224 - loss: 0.2294 - val_accuracy: 0.8369 - val_loss: 0.5182\n",
      "Epoch 21/100\n",
      "\u001b[1m200/200\u001b[0m \u001b[32m━━━━━━━━━━━━━━━━━━━━\u001b[0m\u001b[37m\u001b[0m \u001b[1m28s\u001b[0m 138ms/step - accuracy: 0.9315 - loss: 0.2139 - val_accuracy: 0.8525 - val_loss: 0.4755\n",
      "Epoch 22/100\n",
      "\u001b[1m200/200\u001b[0m \u001b[32m━━━━━━━━━━━━━━━━━━━━\u001b[0m\u001b[37m\u001b[0m \u001b[1m28s\u001b[0m 138ms/step - accuracy: 0.9482 - loss: 0.1620 - val_accuracy: 0.8550 - val_loss: 0.4866\n",
      "Epoch 23/100\n",
      "\u001b[1m200/200\u001b[0m \u001b[32m━━━━━━━━━━━━━━━━━━━━\u001b[0m\u001b[37m\u001b[0m \u001b[1m25s\u001b[0m 126ms/step - accuracy: 0.9601 - loss: 0.1209 - val_accuracy: 0.8537 - val_loss: 0.4782\n",
      "Epoch 24/100\n",
      "\u001b[1m200/200\u001b[0m \u001b[32m━━━━━━━━━━━━━━━━━━━━\u001b[0m\u001b[37m\u001b[0m \u001b[1m26s\u001b[0m 128ms/step - accuracy: 0.9585 - loss: 0.1278 - val_accuracy: 0.8650 - val_loss: 0.5219\n",
      "Epoch 25/100\n",
      "\u001b[1m200/200\u001b[0m \u001b[32m━━━━━━━━━━━━━━━━━━━━\u001b[0m\u001b[37m\u001b[0m \u001b[1m28s\u001b[0m 139ms/step - accuracy: 0.9530 - loss: 0.1395 - val_accuracy: 0.8512 - val_loss: 0.5106\n",
      "Epoch 26/100\n",
      "\u001b[1m200/200\u001b[0m \u001b[32m━━━━━━━━━━━━━━━━━━━━\u001b[0m\u001b[37m\u001b[0m \u001b[1m28s\u001b[0m 138ms/step - accuracy: 0.9617 - loss: 0.1186 - val_accuracy: 0.8569 - val_loss: 0.5313\n"
     ]
    },
    {
     "data": {
      "image/png": "[encoded data removed]",
      "text/plain": [
       "<Figure size 1200x400 with 2 Axes>"
      ]
     },
     "metadata": {},
     "output_type": "display_data"
    }
   ],
   "source": [
    "# Rebuild the best model using the best hyperparameters\n",
    "best_hyperparameters = tuner.get_best_hyperparameters(num_trials=1)[0]\n",
    "\n",
    "# Define a function to rebuild the LSTM model with the best hyperparameters\n",
    "def build_lstm_model(best_hyperparameters):\n",
    "    model = Sequential()\n",
    "\n",
    "    # First LSTM layer\n",
    "    model.add(LSTM(\n",
    "        units=best_hyperparameters.get('units_layer1'),\n",
    "        activation=best_hyperparameters.get('activation_layer1'),\n",
    "        input_shape=input_shape,\n",
    "        return_sequences=True\n",
    "    ))\n",
    "    model.add(Dropout(best_hyperparameters.get('dropout_layer1')))\n",
    "\n",
    "    # Second LSTM layer\n",
    "    model.add(LSTM(\n",
    "        units=best_hyperparameters.get('units_layer2'),\n",
    "        activation=best_hyperparameters.get('activation_layer2')\n",
    "    ))\n",
    "    model.add(Dropout(best_hyperparameters.get('dropout_layer2')))\n",
    "\n",
    "    # Output layer\n",
    "    model.add(Dense(output_units, activation='softmax'))\n",
    "\n",
    "    # Compile the model\n",
    "    model.compile(optimizer=Adam(learning_rate=best_hyperparameters.get('learning_rate')),\n",
    "                  loss='categorical_crossentropy',\n",
    "                  metrics=['accuracy'])\n",
    "\n",
    "    return model\n",
    "\n",
    "# Build the model\n",
    "model = build_lstm_model(best_hyperparameters)\n",
    "\n",
    "# Train the model again, keeping track of the history for plotting\n",
    "history = model.fit(\n",
    "    X_train, y_train,\n",
    "    epochs=100,  # Set the number of epochs here\n",
    "    validation_split=0.2,\n",
    "    callbacks=[early_stopping],\n",
    "    verbose=1\n",
    ")\n",
    "\n",
    "# Plotting Training and Validation Loss and Accuracy\n",
    "plt.figure(figsize=(12, 4))\n",
    "\n",
    "# Plotting loss\n",
    "plt.subplot(1, 2, 1)\n",
    "plt.plot(history.history['loss'], label='Training Loss')\n",
    "plt.plot(history.history['val_loss'], label='Validation Loss')\n",
    "plt.title('Loss')\n",
    "plt.xlabel('Epochs')\n",
    "plt.ylabel('Loss')\n",
    "plt.legend()\n",
    "\n",
    "# Plotting accuracy\n",
    "plt.subplot(1, 2, 2)\n",
    "plt.plot(history.history['accuracy'], label='Training Accuracy')\n",
    "plt.plot(history.history['val_accuracy'], label='Validation Accuracy')\n",
    "plt.title('Accuracy')\n",
    "plt.xlabel('Epochs')\n",
    "plt.ylabel('Accuracy')\n",
    "plt.legend()\n",
    "\n",
    "plt.show()\n"
   ]
  },
  {
   "cell_type": "code",
   "execution_count": 54,
   "id": "003c83de-2462-47b6-9e10-c5e9565dff87",
   "metadata": {},
   "outputs": [
    {
     "name": "stdout",
     "output_type": "stream",
     "text": [
      "0.8740000128746033\n"
     ]
    }
   ],
   "source": [
    "test_accuracy=model.evaluate(X_test,y_test,verbose=0)\n",
    "print(test_accuracy[1])"
   ]
  },
  {
   "cell_type": "code",
   "execution_count": 55,
   "id": "61a3ae26-6c6e-4a55-bf68-6fe15d2cccc3",
   "metadata": {},
   "outputs": [
    {
     "data": {
      "text/html": [
       "<pre style=\"white-space:pre;overflow-x:auto;line-height:normal;font-family:Menlo,'DejaVu Sans Mono',consolas,'Courier New',monospace\"><span style=\"font-weight: bold\">Model: \"sequential_1\"</span>\n",
       "</pre>\n"
      ],
      "text/plain": [
       "\u001b[1mModel: \"sequential_1\"\u001b[0m\n"
      ]
     },
     "metadata": {},
     "output_type": "display_data"
    },
    {
     "data": {
      "text/html": [
       "<pre style=\"white-space:pre;overflow-x:auto;line-height:normal;font-family:Menlo,'DejaVu Sans Mono',consolas,'Courier New',monospace\">┏━━━━━━━━━━━━━━━━━━━━━━━━━━━━━━━━━┳━━━━━━━━━━━━━━━━━━━━━━━━┳━━━━━━━━━━━━━━━┓\n",
       "┃<span style=\"font-weight: bold\"> Layer (type)                    </span>┃<span style=\"font-weight: bold\"> Output Shape           </span>┃<span style=\"font-weight: bold\">       Param # </span>┃\n",
       "┡━━━━━━━━━━━━━━━━━━━━━━━━━━━━━━━━━╇━━━━━━━━━━━━━━━━━━━━━━━━╇━━━━━━━━━━━━━━━┩\n",
       "│ lstm_2 (<span style=\"color: #0087ff; text-decoration-color: #0087ff\">LSTM</span>)                   │ (<span style=\"color: #00d7ff; text-decoration-color: #00d7ff\">None</span>, <span style=\"color: #00af00; text-decoration-color: #00af00\">40</span>, <span style=\"color: #00af00; text-decoration-color: #00af00\">192</span>)        │       <span style=\"color: #00af00; text-decoration-color: #00af00\">148,992</span> │\n",
       "├─────────────────────────────────┼────────────────────────┼───────────────┤\n",
       "│ dropout_2 (<span style=\"color: #0087ff; text-decoration-color: #0087ff\">Dropout</span>)             │ (<span style=\"color: #00d7ff; text-decoration-color: #00d7ff\">None</span>, <span style=\"color: #00af00; text-decoration-color: #00af00\">40</span>, <span style=\"color: #00af00; text-decoration-color: #00af00\">192</span>)        │             <span style=\"color: #00af00; text-decoration-color: #00af00\">0</span> │\n",
       "├─────────────────────────────────┼────────────────────────┼───────────────┤\n",
       "│ lstm_3 (<span style=\"color: #0087ff; text-decoration-color: #0087ff\">LSTM</span>)                   │ (<span style=\"color: #00d7ff; text-decoration-color: #00d7ff\">None</span>, <span style=\"color: #00af00; text-decoration-color: #00af00\">416</span>)            │     <span style=\"color: #00af00; text-decoration-color: #00af00\">1,013,376</span> │\n",
       "├─────────────────────────────────┼────────────────────────┼───────────────┤\n",
       "│ dropout_3 (<span style=\"color: #0087ff; text-decoration-color: #0087ff\">Dropout</span>)             │ (<span style=\"color: #00d7ff; text-decoration-color: #00d7ff\">None</span>, <span style=\"color: #00af00; text-decoration-color: #00af00\">416</span>)            │             <span style=\"color: #00af00; text-decoration-color: #00af00\">0</span> │\n",
       "├─────────────────────────────────┼────────────────────────┼───────────────┤\n",
       "│ dense_1 (<span style=\"color: #0087ff; text-decoration-color: #0087ff\">Dense</span>)                 │ (<span style=\"color: #00d7ff; text-decoration-color: #00d7ff\">None</span>, <span style=\"color: #00af00; text-decoration-color: #00af00\">10</span>)             │         <span style=\"color: #00af00; text-decoration-color: #00af00\">4,170</span> │\n",
       "└─────────────────────────────────┴────────────────────────┴───────────────┘\n",
       "</pre>\n"
      ],
      "text/plain": [
       "┏━━━━━━━━━━━━━━━━━━━━━━━━━━━━━━━━━┳━━━━━━━━━━━━━━━━━━━━━━━━┳━━━━━━━━━━━━━━━┓\n",
       "┃\u001b[1m \u001b[0m\u001b[1mLayer (type)                   \u001b[0m\u001b[1m \u001b[0m┃\u001b[1m \u001b[0m\u001b[1mOutput Shape          \u001b[0m\u001b[1m \u001b[0m┃\u001b[1m \u001b[0m\u001b[1m      Param #\u001b[0m\u001b[1m \u001b[0m┃\n",
       "┡━━━━━━━━━━━━━━━━━━━━━━━━━━━━━━━━━╇━━━━━━━━━━━━━━━━━━━━━━━━╇━━━━━━━━━━━━━━━┩\n",
       "│ lstm_2 (\u001b[38;5;33mLSTM\u001b[0m)                   │ (\u001b[38;5;45mNone\u001b[0m, \u001b[38;5;34m40\u001b[0m, \u001b[38;5;34m192\u001b[0m)        │       \u001b[38;5;34m148,992\u001b[0m │\n",
       "├─────────────────────────────────┼────────────────────────┼───────────────┤\n",
       "│ dropout_2 (\u001b[38;5;33mDropout\u001b[0m)             │ (\u001b[38;5;45mNone\u001b[0m, \u001b[38;5;34m40\u001b[0m, \u001b[38;5;34m192\u001b[0m)        │             \u001b[38;5;34m0\u001b[0m │\n",
       "├─────────────────────────────────┼────────────────────────┼───────────────┤\n",
       "│ lstm_3 (\u001b[38;5;33mLSTM\u001b[0m)                   │ (\u001b[38;5;45mNone\u001b[0m, \u001b[38;5;34m416\u001b[0m)            │     \u001b[38;5;34m1,013,376\u001b[0m │\n",
       "├─────────────────────────────────┼────────────────────────┼───────────────┤\n",
       "│ dropout_3 (\u001b[38;5;33mDropout\u001b[0m)             │ (\u001b[38;5;45mNone\u001b[0m, \u001b[38;5;34m416\u001b[0m)            │             \u001b[38;5;34m0\u001b[0m │\n",
       "├─────────────────────────────────┼────────────────────────┼───────────────┤\n",
       "│ dense_1 (\u001b[38;5;33mDense\u001b[0m)                 │ (\u001b[38;5;45mNone\u001b[0m, \u001b[38;5;34m10\u001b[0m)             │         \u001b[38;5;34m4,170\u001b[0m │\n",
       "└─────────────────────────────────┴────────────────────────┴───────────────┘\n"
      ]
     },
     "metadata": {},
     "output_type": "display_data"
    },
    {
     "data": {
      "text/html": [
       "<pre style=\"white-space:pre;overflow-x:auto;line-height:normal;font-family:Menlo,'DejaVu Sans Mono',consolas,'Courier New',monospace\"><span style=\"font-weight: bold\"> Total params: </span><span style=\"color: #00af00; text-decoration-color: #00af00\">3,499,616</span> (13.35 MB)\n",
       "</pre>\n"
      ],
      "text/plain": [
       "\u001b[1m Total params: \u001b[0m\u001b[38;5;34m3,499,616\u001b[0m (13.35 MB)\n"
      ]
     },
     "metadata": {},
     "output_type": "display_data"
    },
    {
     "data": {
      "text/html": [
       "<pre style=\"white-space:pre;overflow-x:auto;line-height:normal;font-family:Menlo,'DejaVu Sans Mono',consolas,'Courier New',monospace\"><span style=\"font-weight: bold\"> Trainable params: </span><span style=\"color: #00af00; text-decoration-color: #00af00\">1,166,538</span> (4.45 MB)\n",
       "</pre>\n"
      ],
      "text/plain": [
       "\u001b[1m Trainable params: \u001b[0m\u001b[38;5;34m1,166,538\u001b[0m (4.45 MB)\n"
      ]
     },
     "metadata": {},
     "output_type": "display_data"
    },
    {
     "data": {
      "text/html": [
       "<pre style=\"white-space:pre;overflow-x:auto;line-height:normal;font-family:Menlo,'DejaVu Sans Mono',consolas,'Courier New',monospace\"><span style=\"font-weight: bold\"> Non-trainable params: </span><span style=\"color: #00af00; text-decoration-color: #00af00\">0</span> (0.00 B)\n",
       "</pre>\n"
      ],
      "text/plain": [
       "\u001b[1m Non-trainable params: \u001b[0m\u001b[38;5;34m0\u001b[0m (0.00 B)\n"
      ]
     },
     "metadata": {},
     "output_type": "display_data"
    },
    {
     "data": {
      "text/html": [
       "<pre style=\"white-space:pre;overflow-x:auto;line-height:normal;font-family:Menlo,'DejaVu Sans Mono',consolas,'Courier New',monospace\"><span style=\"font-weight: bold\"> Optimizer params: </span><span style=\"color: #00af00; text-decoration-color: #00af00\">2,333,078</span> (8.90 MB)\n",
       "</pre>\n"
      ],
      "text/plain": [
       "\u001b[1m Optimizer params: \u001b[0m\u001b[38;5;34m2,333,078\u001b[0m (8.90 MB)\n"
      ]
     },
     "metadata": {},
     "output_type": "display_data"
    }
   ],
   "source": [
    "model.summary()"
   ]
  },
  {
   "cell_type": "code",
   "execution_count": 56,
   "id": "5f4d7f5c-96e4-45a3-80c4-88008908f582",
   "metadata": {},
   "outputs": [
    {
     "name": "stdout",
     "output_type": "stream",
     "text": [
      "\u001b[1m63/63\u001b[0m \u001b[32m━━━━━━━━━━━━━━━━━━━━\u001b[0m\u001b[37m\u001b[0m \u001b[1m2s\u001b[0m 37ms/step\n",
      "                  precision    recall  f1-score   support\n",
      "\n",
      " air_conditioner       0.63      0.98      0.77       210\n",
      "        car_horn       0.93      0.91      0.92       190\n",
      "children_playing       0.77      0.62      0.68       201\n",
      "        dog_bark       0.83      0.66      0.74       198\n",
      "        drilling       0.91      0.85      0.88       205\n",
      "   engine_idling       0.99      0.95      0.97       214\n",
      "        gun_shot       0.86      0.94      0.90       172\n",
      "      jackhammer       0.93      0.97      0.95       199\n",
      "           siren       0.92      0.93      0.93       199\n",
      "    street_music       0.82      0.67      0.74       212\n",
      "\n",
      "        accuracy                           0.85      2000\n",
      "       macro avg       0.86      0.85      0.85      2000\n",
      "    weighted avg       0.86      0.85      0.85      2000\n",
      "\n"
     ]
    },
    {
     "data": {
      "image/png": "[encoded data removed]",
      "text/plain": [
       "<Figure size 1200x1000 with 2 Axes>"
      ]
     },
     "metadata": {},
     "output_type": "display_data"
    }
   ],
   "source": [
    "import matplotlib.pyplot as plt\n",
    "from sklearn.metrics import classification_report, confusion_matrix, ConfusionMatrixDisplay\n",
    "\n",
    "# Example of class names\n",
    "class_names = ['air_conditioner', 'car_horn', 'children_playing', 'dog_bark', 'drilling', 'engine_idling', 'gun_shot', 'jackhammer', 'siren', 'street_music']\n",
    "\n",
    "# Generate predictions for the test set\n",
    "y_pred = (model.predict(X_test) > 0.5).astype(\"int32\")\n",
    "\n",
    "# Get the class labels from the one-hot encoded predictions and true values\n",
    "y_pred_classes = np.argmax(y_pred, axis=-1)\n",
    "y_test_classes = np.argmax(y_test, axis=-1)\n",
    "\n",
    "# Print the classification report\n",
    "print(classification_report(y_test_classes, y_pred_classes, target_names=class_names))\n",
    "\n",
    "# Create confusion matrix\n",
    "conf_matrix = confusion_matrix(y_test_classes, y_pred_classes)\n",
    "\n",
    "# Plot the confusion matrix\n",
    "fig, ax = plt.subplots(figsize=(12, 10))  # Specify figure size directly in subplots\n",
    "\n",
    "disp = ConfusionMatrixDisplay(confusion_matrix=conf_matrix, display_labels=class_names)\n",
    "\n",
    "disp.plot(cmap=plt.cm.Blues, ax=ax)  # Pass the axis to the plot method\n",
    "\n",
    "ax.set_xticklabels(disp.display_labels, rotation=45, ha='right')  # Rotate class names on x-axis for better readability\n",
    "\n",
    "plt.show()"
   ]
  }
 ],
 "metadata": {
  "kernelspec": {
   "display_name": "Python 3 (ipykernel)",
   "language": "python",
   "name": "python3"
  },
  "language_info": {
   "codemirror_mode": {
    "name": "ipython",
    "version": 3
   },
   "file_extension": ".py",
   "mimetype": "text/x-python",
   "name": "python",
   "nbconvert_exporter": "python",
   "pygments_lexer": "ipython3",
   "version": "3.12.7"
  }
 },
 "nbformat": 4,
 "nbformat_minor": 5
}
