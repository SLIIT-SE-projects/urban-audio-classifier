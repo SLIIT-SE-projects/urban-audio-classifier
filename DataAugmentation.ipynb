{
 "cells": [
  {
   "cell_type": "markdown",
   "id": "891a46d5-5b2a-45e5-a5b7-e0474a8a32bc",
   "metadata": {},
   "source": [
    "## Genarate Augmented Data "
   ]
  },
  {
   "cell_type": "code",
   "execution_count": null,
   "id": "878332e7-b350-460c-bd41-9dcb7e7d8cd9",
   "metadata": {},
   "outputs": [],
   "source": [
    "import os\n",
    "import numpy as np\n",
    "import pandas as pd\n",
    "import librosa\n",
    "from tqdm import tqdm\n",
    "\n",
    "# Augmentation methods\n",
    "def add_white_noise(data, noise_factor=0.005):\n",
    "    noise = np.random.randn(len(data))\n",
    "    augmented_data = data + noise_factor * noise\n",
    "    return augmented_data.astype(type(data[0]))\n",
    "\n",
    "def time_stretch(data, rate=1.0):\n",
    "    return librosa.effects.time_stretch(data, rate=rate)\n",
    "\n",
    "def time_shifting(data, shift_max=0.2):\n",
    "    shift = np.random.randint(int(len(data) * shift_max))\n",
    "    augmented_data = np.roll(data, shift)\n",
    "    if shift > 0:\n",
    "        augmented_data[:shift] = 0\n",
    "    else:\n",
    "        augmented_data[shift:] = 0\n",
    "    return augmented_data\n",
    "\n",
    "def pitch_shift(data, sample_rate, n_steps=2):\n",
    "    return librosa.effects.pitch_shift(data, sr=sample_rate, n_steps=n_steps)\n",
    "\n",
    "def random_gain(data, gain_min=0.8, gain_max=1.25):\n",
    "    gain = np.random.uniform(gain_min, gain_max)\n",
    "    return data * gain\n",
    "\n",
    "# List of all augmentations to apply\n",
    "augmentations = [\n",
    "    lambda x: x,  # Original data\n",
    "    add_white_noise,\n",
    "    lambda x: time_stretch(x, rate=0.9),\n",
    "    lambda x: time_stretch(x, rate=1.1),\n",
    "    time_shifting,\n",
    "    lambda x, sr: pitch_shift(x, sr, n_steps=2),\n",
    "    lambda x, sr: pitch_shift(x, sr, n_steps=-2),\n",
    "    random_gain\n",
    "]\n",
    "\n",
    "feature_normal = []\n",
    "label_normal = []\n",
    "\n",
    "# Load CSV file with metadata\n",
    "df = pd.read_csv('./UrbanSound8K.csv')\n",
    "\n",
    "# Loop over each file and apply augmentations\n",
    "for index_num, row in tqdm(df.iterrows()):\n",
    "    file_name = os.path.join(os.path.abspath('./data'), 'fold' + str(row[\"fold\"]), str(row[\"slice_file_name\"]))\n",
    "    X, sample_rate = librosa.load(file_name)\n",
    "    \n",
    "    for augmentation in augmentations:\n",
    "        if 'sr' in augmentation.__code__.co_varnames:  # Handle augmentations with sample rate argument\n",
    "            augmented_X = augmentation(X, sample_rate)\n",
    "        else:\n",
    "            augmented_X = augmentation(X)\n",
    "        mels = np.mean(librosa.feature.melspectrogram(y=augmented_X, sr=sample_rate).T, axis=0)\n",
    "        feature_normal.append(mels)\n",
    "        label_normal.append(row['classID'])\n"
   ]
  },
  {
   "cell_type": "code",
   "execution_count": null,
   "id": "4b7bb8e1-7e70-444f-b168-74fa46b7653d",
   "metadata": {},
   "outputs": [],
   "source": []
  }
 ],
 "metadata": {
  "kernelspec": {
   "display_name": "Python 3 (ipykernel)",
   "language": "python",
   "name": "python3"
  },
  "language_info": {
   "codemirror_mode": {
    "name": "ipython",
    "version": 3
   },
   "file_extension": ".py",
   "mimetype": "text/x-python",
   "name": "python",
   "nbconvert_exporter": "python",
   "pygments_lexer": "ipython3",
   "version": "3.11.7"
  }
 },
 "nbformat": 4,
 "nbformat_minor": 5
}
